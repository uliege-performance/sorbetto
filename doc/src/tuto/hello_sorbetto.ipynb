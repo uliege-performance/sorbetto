{
 "cells": [
  {
   "cell_type": "markdown",
   "metadata": {},
   "source": [
    "# Hello Sorbetto!\n",
    "\n",
    "This tutorial will guide you through installing the library, and plotting your\n",
    "very first Tile.\n",
    "\n",
    "## Install\n",
    "\n",
    "If you have not done so yet, you can install Sorbetto in your Python environment\n",
    "by following our official [installation\n",
    "instructions](https://sorbetto.readthedocs.io/en/latest/install.html).\n",
    "\n",
    "## Your first tile\n",
    "\n",
    "Whoops, it seems like our tutorial is not finished yet... \n",
    "\n",
    "In the meantime, feel free to check out our\n",
    "[Examples](https://sorbetto.readthedocs.io/en/latest/examples.html) and \n",
    "[Demos](https://sorbetto.readthedocs.io/en/latest/demos.html)."
   ]
  },
  {
   "cell_type": "code",
   "execution_count": 1,
   "metadata": {},
   "outputs": [],
   "source": [
    "# TODO write the first tile tutorial"
   ]
  }
 ],
 "metadata": {
  "kernelspec": {
   "display_name": "Python 3",
   "language": "python",
   "name": "python3"
  },
  "language_info": {
   "codemirror_mode": {
    "name": "ipython",
    "version": 3
   },
   "file_extension": ".py",
   "mimetype": "text/x-python",
   "name": "python",
   "nbconvert_exporter": "python",
   "pygments_lexer": "ipython3",
   "version": "3.12.11"
  }
 },
 "nbformat": 4,
 "nbformat_minor": 2
}
