{
 "cells": [
  {
   "cell_type": "markdown",
   "id": "099bf0bc-7bc0-47f8-b830-e584b731e6e2",
   "metadata": {},
   "source": [
    "# Interactive Ranking"
   ]
  },
  {
   "cell_type": "markdown",
   "id": "2da60486",
   "metadata": {},
   "source": []
  },
  {
   "cell_type": "code",
   "execution_count": 2,
   "id": "fafd9819-48a5-4a03-b474-8d2e05813103",
   "metadata": {},
   "outputs": [],
   "source": [
    "%matplotlib tk\n",
    "\n",
    "from sorbetto.core.entity import Entity\n",
    "from sorbetto.performance.two_class_classification_performance import TwoClassClassificationPerformance\n",
    "from sorbetto.ranking.ranking_induced_by_score import RankingInducedByScore\n",
    "from sorbetto.ranking.ranking_score import RankingScore\n",
    "from sorbetto.tile.tile import Tile\n",
    "from sorbetto.parameterization import ParameterizationDefault\n",
    "\n",
    "from random import random\n",
    "import numpy as np\n",
    "import matplotlib.pyplot as plt\n",
    "from matplotlib.backend_bases import MouseButton"
   ]
  },
  {
   "cell_type": "code",
   "execution_count": 3,
   "id": "f1b62b28-3ba9-42db-bfe5-d128102c6484",
   "metadata": {},
   "outputs": [],
   "source": [
    "ca = Entity( TwoClassClassificationPerformance( random(), random(), random(), random() ), 'Classifier \"A\"' )\n",
    "cb = Entity( TwoClassClassificationPerformance( random(), random(), random(), random() ), 'Classifier \"B\"' )\n",
    "cc = Entity( TwoClassClassificationPerformance( random(), random(), random(), random() ), 'Classifier \"C\"' )\n",
    "cd = Entity( TwoClassClassificationPerformance( random(), random(), random(), random() ), 'Classifier \"D\"' )\n",
    "ce = Entity( TwoClassClassificationPerformance( random(), random(), random(), random() ), 'Classifier \"E\"' )"
   ]
  },
  {
   "cell_type": "code",
   "execution_count": 4,
   "id": "51f75fb1-bbbd-4adb-9a60-657368378056",
   "metadata": {},
   "outputs": [],
   "source": [
    "entities = [ ca, cb, cc, cd, ce ]\n",
    "score = RankingScore.getF ( beta=1.0 )\n",
    "ranking = RankingInducedByScore ( entities, score )"
   ]
  },
  {
   "cell_type": "code",
   "execution_count": 5,
   "id": "1f7c8816-7b44-46f7-98b7-c5aace3b52eb",
   "metadata": {},
   "outputs": [
    {
     "name": "stdout",
     "output_type": "stream",
     "text": [
      "[0.20442814 0.68889051 0.2260841  0.73844343 0.72790254]\n"
     ]
    }
   ],
   "source": [
    "print ( ranking.values )"
   ]
  },
  {
   "cell_type": "code",
   "execution_count": 6,
   "id": "5036f39c-6e10-46d2-9adf-66c2f5ad646d",
   "metadata": {},
   "outputs": [
    {
     "name": "stdout",
     "output_type": "stream",
     "text": [
      "[5 3 4 1 2]\n"
     ]
    }
   ],
   "source": [
    "print ( ranking.getAllMinRanks() )"
   ]
  },
  {
   "cell_type": "code",
   "execution_count": 7,
   "id": "47266444-55d6-4f97-b36d-ba0769d680ee",
   "metadata": {},
   "outputs": [
    {
     "name": "stdout",
     "output_type": "stream",
     "text": [
      "[5 3 4 1 2]\n"
     ]
    }
   ],
   "source": [
    "print ( ranking.getAllMaxRanks() )"
   ]
  },
  {
   "cell_type": "code",
   "execution_count": 8,
   "id": "af872c29-c03e-401f-9eb5-830b96e3e482",
   "metadata": {},
   "outputs": [
    {
     "name": "stdout",
     "output_type": "stream",
     "text": [
      "1 : [<sorbetto.core.entity.Entity object at 0x16d5222a0>]\n",
      "2 : [<sorbetto.core.entity.Entity object at 0x16d522450>]\n",
      "3 : [<sorbetto.core.entity.Entity object at 0x16d522360>]\n",
      "4 : [<sorbetto.core.entity.Entity object at 0x16d522330>]\n",
      "5 : [<sorbetto.core.entity.Entity object at 0x16d4e5b80>]\n"
     ]
    }
   ],
   "source": [
    "for r in range ( len ( entities ) ) :\n",
    "    print ( r+1, ':', (ranking.getEntitiesAtRank ( r+1 ) ) )"
   ]
  },
  {
   "cell_type": "code",
   "execution_count": 9,
   "id": "810fba61",
   "metadata": {},
   "outputs": [],
   "source": [
    "\n",
    "parameterization = ParameterizationDefault ()\n",
    "min_x, max_x = parameterization.getBoundsParameter1 ()\n",
    "min_y, max_y = parameterization.getBoundsParameter2 ()\n",
    "extent = [ min_x, max_x, min_y, max_y ]\n"
   ]
  },
  {
   "cell_type": "code",
   "execution_count": 10,
   "id": "b411e10a",
   "metadata": {},
   "outputs": [],
   "source": [
    "def draw_ladder(ax, coords):\n",
    "    importance = parameterization.getCanonicalImportance(*coords)\n",
    "\n",
    "    score = RankingScore(importance)\n",
    "    ranking = RankingInducedByScore ( entities, score )\n",
    "\n",
    "    names = np.asarray([ e.name for e in ranking.entities ])\n",
    "    scores = ranking.values\n",
    "\n",
    "    \n",
    "    # Sort by scores (descending order for ranking)\n",
    "    sorted_indices = np.argsort(scores)[::-1]\n",
    "    sorted_scores = scores[sorted_indices]\n",
    "    sorted_names = names[sorted_indices]\n",
    "    \n",
    "    # Normalize scores to y-positions\n",
    "    if len(np.unique(sorted_scores)) > 1:\n",
    "        y_positions = (sorted_scores - sorted_scores.min()) / (sorted_scores.max() - sorted_scores.min())\n",
    "    else:\n",
    "        y_positions = np.ones_like(sorted_scores) * 0.5\n",
    "    \n",
    "    # Scale to desired height\n",
    "    y_positions = y_positions * 8 + 1\n",
    "    \n",
    "    # Draw main vertical line\n",
    "    ax.plot([0, 0], [0, 10], 'k-', linewidth=2)\n",
    "    \n",
    "    # Group equal scores\n",
    "    unique_scores = np.unique(sorted_scores)\n",
    "    \n",
    "    for score in unique_scores:\n",
    "        mask = sorted_scores == score\n",
    "        score_names = sorted_names[mask]\n",
    "        score_y = y_positions[mask][0]  # All equal scores have same y position\n",
    "        \n",
    "        if len(score_names) == 1:\n",
    "            # Single score - simple line and label\n",
    "            ax.plot([0, 1], [score_y, score_y], 'k-', linewidth=1)\n",
    "            ax.text(1.1, score_y, score_names[0], va='center', fontsize=10)\n",
    "        else:\n",
    "            # Multiple equal scores - draw bracket\n",
    "            bracket_height = 0.3\n",
    "            bracket_top = score_y + bracket_height/2\n",
    "            bracket_bottom = score_y - bracket_height/2\n",
    "            \n",
    "            # Draw bracket\n",
    "            ax.plot([0, 0.8], [score_y, score_y], 'k-', linewidth=1)  # horizontal to bracket\n",
    "            ax.plot([0.8, 0.8], [bracket_bottom, bracket_top], 'k-', linewidth=1)  # vertical bracket\n",
    "            ax.plot([0.8, 1], [bracket_top, bracket_top], 'k-', linewidth=1)  # top bracket line\n",
    "            ax.plot([0.8, 1], [bracket_bottom, bracket_bottom], 'k-', linewidth=1)  # bottom bracket line\n",
    "            \n",
    "            # Add names\n",
    "            for i, name in enumerate(score_names):\n",
    "                name_y = bracket_top - (i + 0.5) * bracket_height / len(score_names)\n",
    "                ax.text(1.1, name_y, name, va='center', fontsize=10)\n",
    "        \n",
    "        # Add score markers on main line\n",
    "        ax.plot(0, score_y, 'ko', markersize=6)\n",
    "    \n",
    "    # Add score labels on the left\n",
    "    for score, y_pos in zip(unique_scores, [y_positions[sorted_scores == score][0] for score in unique_scores]):\n",
    "        ax.text(-0.2, y_pos, f'{score:.2f}', ha='right', va='center', fontsize=9)\n",
    "    \n",
    "    # Clean up the plot\n",
    "    ax.set_xlim(-0.5, 3)\n",
    "    ax.set_ylim(-0.5, 10.5)\n",
    "    ax.set_aspect('equal')\n",
    "    ax.axis('off')\n",
    "    ax.set_title('Method Rankings', fontsize=12, pad=20)\n"
   ]
  },
  {
   "cell_type": "code",
   "execution_count": null,
   "id": "01587a0a",
   "metadata": {},
   "outputs": [],
   "source": []
  },
  {
   "cell_type": "code",
   "execution_count": 11,
   "id": "ebabbbc5-4d90-4986-82d0-370039ebfbc2",
   "metadata": {},
   "outputs": [
    {
     "name": "stdout",
     "output_type": "stream",
     "text": [
      "plotting curve 0 1\n",
      "plotting curve 0 2\n",
      "plotting curve 0 3\n",
      "plotting curve 0 4\n",
      "plotting curve 1 2\n",
      "plotting curve 1 3\n",
      "plotting curve 1 4\n",
      "plotting curve 2 3\n",
      "plotting curve 2 4\n",
      "plotting curve 3 4\n"
     ]
    }
   ],
   "source": [
    "tile = Tile ( name = \"my tile\", parameterization=parameterization )\n",
    "\n",
    "fig, ax = plt.subplots (1, 2)\n",
    "tile.draw ( fig, ax[0] )\n",
    "# TODO: transform the following into an annotation\n",
    "for i, entity_1 in enumerate ( entities ) :\n",
    "    for j, entity_2 in enumerate ( entities ) :\n",
    "        if i < j :\n",
    "            print ( \"plotting curve\", i, j )\n",
    "            curve = score.equivalent ( entity_1.performance, entity_2.performance )\n",
    "            curve.draw (fig, ax[0], extent)\n",
    "\n",
    "\n",
    "def on_click(event):\n",
    "    if event.button is MouseButton.LEFT:\n",
    "        ax[1].clear()\n",
    "        draw_ladder(ax[1], (event.xdata, event.ydata))\n",
    "        plt.show()\n",
    "\n",
    "plt.connect('button_press_event', on_click)\n",
    "plt.show()"
   ]
  },
  {
   "cell_type": "code",
   "execution_count": null,
   "id": "5f99e898-2eec-4458-9e3d-497ff0e88dec",
   "metadata": {},
   "outputs": [],
   "source": []
  }
 ],
 "metadata": {
  "kernelspec": {
   "display_name": "Python 3 (ipykernel)",
   "language": "python",
   "name": "python3"
  },
  "language_info": {
   "codemirror_mode": {
    "name": "ipython",
    "version": 3
   },
   "file_extension": ".py",
   "mimetype": "text/x-python",
   "name": "python",
   "nbconvert_exporter": "python",
   "pygments_lexer": "ipython3",
   "version": "3.12.2"
  }
 },
 "nbformat": 4,
 "nbformat_minor": 5
}
