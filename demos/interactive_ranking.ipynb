{
 "cells": [
  {
   "cell_type": "markdown",
   "id": "099bf0bc-7bc0-47f8-b830-e584b731e6e2",
   "metadata": {},
   "source": [
    "# Interactive Ranking"
   ]
  },
  {
   "cell_type": "code",
   "execution_count": 1,
   "id": "fafd9819-48a5-4a03-b474-8d2e05813103",
   "metadata": {},
   "outputs": [],
   "source": [
    "%matplotlib tk\n",
    "\n",
    "from sorbetto.core.entity import Entity\n",
    "from sorbetto.ranking.ranking_induced_by_score import RankingInducedByScore\n",
    "from sorbetto.ranking.ranking_score import RankingScore\n",
    "from sorbetto.tile.tile import Tile\n",
    "from sorbetto.parameterization import ParameterizationDefault\n",
    "from sorbetto.performance.distribution.uniform_distribution_of_two_class_classification_performances import UniformDistributionOfTwoClassClassificationPerformances\n",
    "from sorbetto.performance.finite_set_of_two_class_classification_performances import FiniteSetOfTwoClassClassificationPerformances\n",
    "from sorbetto.annotation.annotation_frontiers_between_rankings import AnnotationFrontiersBetweenRankings\n",
    "\n",
    "import matplotlib.pyplot as plt\n",
    "from matplotlib.backend_bases import MouseButton"
   ]
  },
  {
   "cell_type": "code",
   "execution_count": 2,
   "id": "f1b62b28-3ba9-42db-bfe5-d128102c6484",
   "metadata": {},
   "outputs": [],
   "source": [
    "distri = UniformDistributionOfTwoClassClassificationPerformances ( \"the uniform distribution\" )\n",
    "\n",
    "ca = Entity( distri.drawOneAtRandom(), 'Classifier \"A\"', 'mediumvioletred' )\n",
    "cb = Entity( distri.drawOneAtRandom(), 'Classifier \"B\"', 'mediumslateblue' )\n",
    "cc = Entity( distri.drawOneAtRandom(), 'Classifier \"C\"', 'mediumseagreen' )\n",
    "cd = Entity( distri.drawOneAtRandom(), 'Classifier \"D\"', 'sandybrown' )\n",
    "ce = Entity( distri.drawOneAtRandom(), 'Classifier \"E\"', 'lightcoral' )\n",
    "\n",
    "entities = [ ca, cb, cc, cd, ce ]"
   ]
  },
  {
   "cell_type": "code",
   "execution_count": 3,
   "id": "810fba61",
   "metadata": {},
   "outputs": [],
   "source": [
    "parameterization = ParameterizationDefault ()\n",
    "\n",
    "def draw_tile(fig, ax):\n",
    "    tile = Tile ( parameterization=parameterization, name=\"Tile\" )\n",
    "    performances = FiniteSetOfTwoClassClassificationPerformances ( [ e.performance for e in entities ] )\n",
    "    annotation = AnnotationFrontiersBetweenRankings ( performances )\n",
    "    tile.appendAnnotation ( annotation )\n",
    "    tile.draw ( fig, ax )"
   ]
  },
  {
   "cell_type": "code",
   "execution_count": 4,
   "id": "b411e10a",
   "metadata": {},
   "outputs": [],
   "source": [
    "def draw_ranking(fig, ax, coords):\n",
    "    importance = parameterization.getCanonicalImportance(*coords)\n",
    "    score = RankingScore(importance, name='Ranking Score')\n",
    "    ranking = RankingInducedByScore ( entities, score )\n",
    "    ranking.draw ( fig, ax )"
   ]
  },
  {
   "cell_type": "code",
   "execution_count": 5,
   "id": "ebabbbc5-4d90-4986-82d0-370039ebfbc2",
   "metadata": {},
   "outputs": [],
   "source": [
    "fig, ax = plt.subplots (1, 2)\n",
    "draw_tile(fig, ax[0])\n",
    "draw_ranking(fig, ax[1], (0.5, 0.5))\n",
    "\n",
    "def update(event):\n",
    "    if event.inaxes != ax[0]:\n",
    "        return\n",
    "    \n",
    "    #if event.button is MouseButton.LEFT:\n",
    "    if True:\n",
    "        ax[1].clear()\n",
    "        draw_ranking(fig, ax[1], (event.xdata, event.ydata))\n",
    "        plt.show()\n",
    "\n",
    "#plt.connect('button_press_event', update)\n",
    "plt.connect('motion_notify_event', update)\n",
    "plt.show()"
   ]
  },
  {
   "cell_type": "code",
   "execution_count": null,
   "id": "42026e95-b0b2-4806-b72f-7da06809592c",
   "metadata": {},
   "outputs": [],
   "source": []
  }
 ],
 "metadata": {
  "kernelspec": {
   "display_name": "Python 3 (ipykernel)",
   "language": "python",
   "name": "python3"
  },
  "language_info": {
   "codemirror_mode": {
    "name": "ipython",
    "version": 3
   },
   "file_extension": ".py",
   "mimetype": "text/x-python",
   "name": "python",
   "nbconvert_exporter": "python",
   "pygments_lexer": "ipython3",
   "version": "3.12.2"
  }
 },
 "nbformat": 4,
 "nbformat_minor": 5
}
