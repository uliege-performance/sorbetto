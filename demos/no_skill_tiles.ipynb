{
 "cells": [
  {
   "cell_type": "markdown",
   "id": "64da8358",
   "metadata": {},
   "source": [
    "# No-skill tiles"
   ]
  },
  {
   "cell_type": "markdown",
   "id": "c9a67151",
   "metadata": {},
   "source": [
    "Some classifiers may always return the same value. This can occur when dealing with largely unbiased datasets for instance.\n",
    "\n",
    "In this notebook, we explore the specific case in which the data distribution and the model predictions follow distributions that are iid.\n",
    "\n",
    "In this notebook, we consider that:\n",
    "- $\\hat{P}(+)$: the probability of a model to yield a positive.\n",
    "- $\\pi_+$: the probability to encounter a data instance corresponding to the positive class."
   ]
  },
  {
   "cell_type": "code",
   "execution_count": 5,
   "id": "46ee5064",
   "metadata": {},
   "outputs": [],
   "source": [
    "%matplotlib tk\n",
    "\n",
    "import numpy as np\n",
    "import matplotlib.pyplot as plt\n",
    "from matplotlib.widgets import Slider\n",
    "\n",
    "from sorbetto.performance.two_class_classification_performance import TwoClassClassificationPerformance\n",
    "from sorbetto.parameterization.parameterization_default import ParameterizationDefault\n",
    "from sorbetto.flavor.value_flavor import ValueFlavor\n",
    "from sorbetto.tile.value_tile import ValueTile"
   ]
  },
  {
   "cell_type": "code",
   "execution_count": 6,
   "id": "20250c20",
   "metadata": {},
   "outputs": [
    {
     "name": "stdout",
     "output_type": "stream",
     "text": [
      "TwoClassClassificationPerformance(name=No-skill Performance, ptn=0.09, pfp=0.21, pfn=0.21, ptp=0.48999999999999994)\n"
     ]
    }
   ],
   "source": [
    "def get_perf_no_skill(prior_pos = 0.5, proba_model_pos = 0.5):\n",
    "\n",
    "    prior_neg = 1 - prior_pos\n",
    "    proba_model_neg = 1 - proba_model_pos\n",
    "\n",
    "    ptp = proba_model_pos * prior_pos\n",
    "    ptn = proba_model_neg * prior_neg\n",
    "    pfn = proba_model_neg * prior_pos\n",
    "    pfp = proba_model_pos * prior_neg\n",
    "\n",
    "\n",
    "    return TwoClassClassificationPerformance(ptp, pfn, pfp, ptn, name = 'No-skill Performance')\n",
    "\n",
    "perf = get_perf_no_skill(prior_pos = 0.3, proba_model_pos = .3)\n",
    "print(perf)"
   ]
  },
  {
   "cell_type": "code",
   "execution_count": 7,
   "id": "b8176051",
   "metadata": {},
   "outputs": [],
   "source": [
    "# Creating an example\n",
    "\n",
    "param = ParameterizationDefault()\n",
    "flavor = ValueFlavor(performance = perf)\n",
    "tile = ValueTile(flavor = flavor, parameterization = param,name = \"value tile\")\n",
    "\n",
    "a, b = np.linspace(0,1,100), np.linspace(0,1,100)\n",
    "a2, b2 = np.meshgrid(a, b)\n",
    "mat = tile(a2, b2)\n",
    "\n",
    "fig, ax = plt.subplots()\n",
    "\n",
    "def display_tile(fig, ax, mat):\n",
    "\n",
    "    ax.imshow(mat, extent=[0, 1, 0, 1], origin='lower', aspect='auto')\n",
    "    cs = ax.contour(\n",
    "        a, b, mat,\n",
    "        levels=np.linspace(0, 1, 21),\n",
    "        colors=\"cornflowerblue\"\n",
    "    )\n",
    "    ax.clabel(cs, inline=True, fontsize=8)\n",
    "\n",
    "    # Axis labels\n",
    "    ax.set_xlabel('a')\n",
    "    ax.set_ylabel('b')\n",
    "\n",
    "    ax.set_aspect('equal', adjustable='box')\n",
    "\n",
    "display_tile(fig, ax, mat)\n",
    "\n",
    "plt.show()"
   ]
  },
  {
   "cell_type": "markdown",
   "id": "667c16a7",
   "metadata": {},
   "source": [
    "To explore how the value tile change when the priors and the model probabilities change, the next cell provides you with an interactive plot.\n",
    "\n",
    "Please note that when $\\pi_+ = P(+) = 0.5$, the tile is a uniform square.\n",
    "\n",
    "You can also check that when $\\pi = 0.1$ and $P(+) = 0.9$, you obtain horizontal lines. \n",
    "\n",
    "When $\\pi = P(+) = 0.9$, you obtain vertical lines."
   ]
  },
  {
   "cell_type": "code",
   "execution_count": 4,
   "id": "e0fdbe69",
   "metadata": {},
   "outputs": [
    {
     "name": "stderr",
     "output_type": "stream",
     "text": [
      "<>:11: SyntaxWarning: invalid escape sequence '\\p'\n",
      "<>:11: SyntaxWarning: invalid escape sequence '\\p'\n",
      "/tmp/ipykernel_7598/3200164053.py:11: SyntaxWarning: invalid escape sequence '\\p'\n",
      "  label='$\\pi_+$',\n"
     ]
    }
   ],
   "source": [
    "fig, ax = plt.subplots()\n",
    "plt.subplots_adjust(bottom=0.25)  # leave space for sliders\n",
    "\n",
    "a = np.linspace(0, 1, 100)\n",
    "b = np.linspace(0, 1, 100)\n",
    "a2, b2 = np.meshgrid(a, b)\n",
    "\n",
    "prior_ax = fig.add_axes([0.2, 0.1, 0.6, 0.03])\n",
    "prior_pos_slider = Slider(\n",
    "    ax=prior_ax,\n",
    "    label='$\\pi_+$',\n",
    "    valmin=0.0,\n",
    "    valmax=1.0,\n",
    "    valinit=0.5,\n",
    "    valstep=0.01,\n",
    "    orientation='horizontal'\n",
    ")\n",
    "\n",
    "proba_ax = fig.add_axes([0.2, 0.05, 0.6, 0.03])\n",
    "proba_model_slider = Slider(\n",
    "    ax=proba_ax,\n",
    "    label='P(+)',\n",
    "    valmin=0.0,\n",
    "    valmax=1.0,\n",
    "    valinit=0.5,\n",
    "    valstep=0.01,\n",
    "    orientation='horizontal'\n",
    ")\n",
    "\n",
    "def plot_tile(_=None):\n",
    "    prior_val = prior_pos_slider.val\n",
    "    proba_model_val = proba_model_slider.val\n",
    "\n",
    "    perf = get_perf_no_skill(prior_pos=prior_val, proba_model_pos=proba_model_val)\n",
    "    flavor = ValueFlavor(performance=perf)\n",
    "    value_tile = ValueTile(flavor=flavor, parameterization=param, name=\"value tile\")\n",
    "    mat = value_tile(a2, b2)\n",
    "\n",
    "    ax.clear()\n",
    "    display_tile(fig, ax, mat)\n",
    "    fig.canvas.draw_idle()\n",
    "\n",
    "prior_pos_slider.on_changed(plot_tile)\n",
    "proba_model_slider.on_changed(plot_tile)\n",
    "\n",
    "# initial draw\n",
    "plot_tile()\n",
    "plt.show()\n"
   ]
  }
 ],
 "metadata": {
  "kernelspec": {
   "display_name": "tile-env",
   "language": "python",
   "name": "python3"
  },
  "language_info": {
   "codemirror_mode": {
    "name": "ipython",
    "version": 3
   },
   "file_extension": ".py",
   "mimetype": "text/x-python",
   "name": "python",
   "nbconvert_exporter": "python",
   "pygments_lexer": "ipython3",
   "version": "3.12.11"
  }
 },
 "nbformat": 4,
 "nbformat_minor": 5
}
