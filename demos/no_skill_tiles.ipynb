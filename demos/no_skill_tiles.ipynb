{
 "cells": [
  {
   "cell_type": "markdown",
   "id": "64da8358",
   "metadata": {},
   "source": [
    "# No-skill tiles"
   ]
  },
  {
   "cell_type": "markdown",
   "id": "c9a67151",
   "metadata": {},
   "source": [
    "Some classifiers may always return the same value. This can occur when dealing with largely unbiased datasets for instance.\n",
    "\n",
    "In this notebook, we explore the specific case in which the data distribution and the model predictions follow distributions that are iid.\n",
    "\n",
    "Considering:\n",
    "- $\\hat{P}(+)$: the probability of a model to yield a positive.\n",
    "- $\\pi_+$: the probability to encounter a data instance corresponding to the positive class.\n",
    "\n",
    "One can see that ..."
   ]
  },
  {
   "cell_type": "code",
   "execution_count": 1,
   "id": "46ee5064",
   "metadata": {},
   "outputs": [],
   "source": [
    "%matplotlib tk\n",
    "\n",
    "import numpy as np\n",
    "import matplotlib.pyplot as plt\n",
    "from matplotlib.widgets import Slider\n",
    "\n",
    "from sorbetto.performance.two_class_classification_performance import TwoClassClassificationPerformance\n",
    "from sorbetto.parameterization.parameterization_default import ParameterizationDefault\n",
    "from sorbetto.flavor.value_flavor import ValueFlavor\n",
    "from sorbetto.flavor.ranking_flavor import RankingFlavor\n",
    "from sorbetto.tile.value_tile import ValueTile\n",
    "from sorbetto.tile.ranking_tile import RankingTile\n",
    "from sorbetto.core.entity import Entity"
   ]
  },
  {
   "cell_type": "code",
   "execution_count": 2,
   "id": "20250c20",
   "metadata": {},
   "outputs": [
    {
     "name": "stdout",
     "output_type": "stream",
     "text": [
      "TwoClassClassificationPerformance(name=No-skill Performance, ptn=0.09, pfp=0.21, pfn=0.21, ptp=0.48999999999999994)\n"
     ]
    }
   ],
   "source": [
    "def get_perf_no_skill(prior_pos = 0.5, proba_model_pos = 0.5):\n",
    "\n",
    "    prior_neg = 1 - prior_pos\n",
    "    proba_model_neg = 1 - proba_model_pos\n",
    "\n",
    "    ptp = proba_model_pos * prior_pos\n",
    "    ptn = proba_model_neg * prior_neg\n",
    "    pfn = proba_model_neg * prior_pos\n",
    "    pfp = proba_model_pos * prior_neg\n",
    "\n",
    "\n",
    "    return TwoClassClassificationPerformance(ptp, pfn, pfp, ptn, name = 'No-skill Performance')\n",
    "\n",
    "perf = get_perf_no_skill(prior_pos = 0.3, proba_model_pos = .3)\n",
    "print(perf)"
   ]
  },
  {
   "cell_type": "code",
   "execution_count": 3,
   "id": "b8176051",
   "metadata": {},
   "outputs": [],
   "source": [
    "# Creating an example\n",
    "\n",
    "param = ParameterizationDefault()\n",
    "flavor = ValueFlavor(perf)\n",
    "tile = ValueTile(flavor = flavor, parameterization = param, name = \"value tile\")\n",
    "\n",
    "a, b = np.linspace(0,1,100), np.linspace(0,1,100)\n",
    "a2, b2 = np.meshgrid(a, b)\n",
    "mat = tile(a2, b2)\n",
    "\n",
    "fig, ax = plt.subplots()\n",
    "\n",
    "def display_tile(fig, ax, mat):\n",
    "\n",
    "    ax.imshow(mat, extent=[0, 1, 0, 1], origin='lower', aspect='auto')\n",
    "    cs = ax.contour(\n",
    "        a, b, mat,\n",
    "        levels=np.linspace(0, 1, 21),\n",
    "        colors=\"cornflowerblue\"\n",
    "    )\n",
    "    ax.clabel(cs, inline=True, fontsize=8)\n",
    "\n",
    "    # Axis labels\n",
    "    ax.set_xlabel('a')\n",
    "    ax.set_ylabel('b')\n",
    "\n",
    "    ax.set_aspect('equal', adjustable='box')\n",
    "\n",
    "display_tile(fig, ax, mat)\n",
    "\n",
    "plt.show()"
   ]
  },
  {
   "cell_type": "markdown",
   "id": "667c16a7",
   "metadata": {},
   "source": [
    "To explore how the value tile change when the priors and the model probabilities change, the next cell provides you with an interactive plot.\n",
    "\n",
    "Please note that when $\\pi_+ = P(+) = 0.5$, the tile is a uniform square.\n",
    "\n",
    "You can also check that when $\\pi = 0.1$ and $P(+) = 0.9$, you obtain horizontal lines. \n",
    "\n",
    "When $\\pi = P(+) = 0.9$, you obtain vertical lines."
   ]
  },
  {
   "cell_type": "code",
   "execution_count": 4,
   "id": "e0fdbe69",
   "metadata": {},
   "outputs": [],
   "source": [
    "\n",
    "fig, ax = plt.subplots()\n",
    "plt.subplots_adjust(bottom=0.25)  # leave space for sliders\n",
    "\n",
    "a = np.linspace(0, 1, 100)\n",
    "b = np.linspace(0, 1, 100)\n",
    "a2, b2 = np.meshgrid(a, b)\n",
    "\n",
    "prior_ax = fig.add_axes([0.2, 0.1, 0.6, 0.03])\n",
    "prior_pos_slider = Slider(\n",
    "    ax=prior_ax,\n",
    "    label=r'$\\pi_+$',\n",
    "    valmin=0.0,\n",
    "    valmax=1.0,\n",
    "    valinit=0.5,\n",
    "    valstep=0.01,\n",
    "    orientation='horizontal'\n",
    ")\n",
    "\n",
    "proba_ax = fig.add_axes([0.2, 0.05, 0.6, 0.03])\n",
    "proba_model_slider = Slider(\n",
    "    ax=proba_ax,\n",
    "    label='P(+)',\n",
    "    valmin=0.0,\n",
    "    valmax=1.0,\n",
    "    valinit=0.5,\n",
    "    valstep=0.01,\n",
    "    orientation='horizontal'\n",
    ")\n",
    "\n",
    "def plot_tile(_=None):\n",
    "    prior_val = prior_pos_slider.val\n",
    "    proba_model_val = proba_model_slider.val\n",
    "\n",
    "    perf = get_perf_no_skill(prior_pos=prior_val, proba_model_pos=proba_model_val)\n",
    "    flavor = ValueFlavor(perf)\n",
    "    value_tile = ValueTile(flavor=flavor, parameterization=param, name=\"value tile\")\n",
    "    mat = value_tile(a2, b2)\n",
    "\n",
    "    ax.clear()\n",
    "    display_tile(fig, ax, mat)\n",
    "    fig.canvas.draw_idle()\n",
    "\n",
    "prior_pos_slider.on_changed(plot_tile)\n",
    "proba_model_slider.on_changed(plot_tile)\n",
    "\n",
    "# initial draw\n",
    "plot_tile()\n",
    "plt.show()\n"
   ]
  },
  {
   "cell_type": "markdown",
   "id": "300b6c2a",
   "metadata": {},
   "source": [
    "It is also possible to observe how the tile ranks different no-skill predictors."
   ]
  },
  {
   "cell_type": "code",
   "execution_count": 5,
   "id": "30e51896",
   "metadata": {},
   "outputs": [],
   "source": [
    "entities_list = []\n",
    "id_dict = []\n",
    "priors_list = np.linspace(0, 1, 50)\n",
    "model_probs_list = np.linspace(0, 1, 50)\n",
    "\n",
    "\n",
    "def encode_id(prior, model_prob):\n",
    "    return f\"{prior:.2f}_{model_prob:.2f}\"\n",
    "\n",
    "i = 0\n",
    "for prior in priors_list:\n",
    "    for model_prob in model_probs_list:\n",
    "        perf = get_perf_no_skill(prior_pos=prior, proba_model_pos=model_prob)\n",
    "        ent = Entity(perf, name=f\"Prior: {prior:.2f}, P(+): {model_prob:.2f}\")\n",
    "        entities_list.append(ent)\n",
    "        id_dict.append( (encode_id(prior, model_prob), i) )\n",
    "        i += 1\n",
    "\n",
    "id_dict = dict(id_dict)"
   ]
  },
  {
   "cell_type": "code",
   "execution_count": 6,
   "id": "46c421e5",
   "metadata": {},
   "outputs": [],
   "source": [
    "id_entity = 200\n",
    "\n",
    "flavor = RankingFlavor(entity = entities_list[id_entity],\n",
    "                       entity_list=entities_list,\n",
    "                       name = \"Rank Flavor - No Skill\")\n",
    "\n",
    "tile = RankingTile(name = \"Rank Tile - No Skill\", \n",
    "                   parameterization=param,\n",
    "                   flavor=flavor)"
   ]
  },
  {
   "cell_type": "code",
   "execution_count": 7,
   "id": "c77b4781",
   "metadata": {},
   "outputs": [
    {
     "name": "stderr",
     "output_type": "stream",
     "text": [
      "/home/francois/sorbetto/sorbetto/ranking/ranking_score.py:436: RuntimeWarning: invalid value encountered in divide\n",
      "  return satisfying / (satisfying + unsatisfying)\n"
     ]
    }
   ],
   "source": [
    "fig, ax = plt.subplots()\n",
    "\n",
    "a = np.linspace(0, 1, 100)\n",
    "b = np.linspace(0, 1, 100)\n",
    "a2, b2 = np.meshgrid(a, b)\n",
    "\n",
    "mat = tile(a2,b2) / len(entities_list)\n",
    "ax.imshow(mat)\n",
    "\n",
    "#levels = np.unique(mat).astype(float) - 0.5  # boundaries between integer plateaus\n",
    "\n",
    "# Axis labels\n",
    "ax.set_xlabel('a')\n",
    "ax.set_ylabel('b')\n",
    "\n",
    "ax.set_aspect('equal', adjustable='box')\n",
    "\n",
    "plt.show()\n"
   ]
  },
  {
   "cell_type": "code",
   "execution_count": 8,
   "id": "b53a4557",
   "metadata": {},
   "outputs": [
    {
     "ename": "KeyError",
     "evalue": "'0.50_0.50'",
     "output_type": "error",
     "traceback": [
      "\u001b[31m---------------------------------------------------------------------------\u001b[39m",
      "\u001b[31mKeyError\u001b[39m                                  Traceback (most recent call last)",
      "\u001b[36mCell\u001b[39m\u001b[36m \u001b[39m\u001b[32mIn[8]\u001b[39m\u001b[32m, line 54\u001b[39m\n\u001b[32m     51\u001b[39m proba_model_slider.on_changed(plot_tile)\n\u001b[32m     53\u001b[39m \u001b[38;5;66;03m# initial draw\u001b[39;00m\n\u001b[32m---> \u001b[39m\u001b[32m54\u001b[39m \u001b[43mplot_tile\u001b[49m\u001b[43m(\u001b[49m\u001b[43m)\u001b[49m\n\u001b[32m     55\u001b[39m plt.show()\n\u001b[32m     57\u001b[39m \u001b[38;5;66;03m# TODO fix dictionary error\u001b[39;00m\n",
      "\u001b[36mCell\u001b[39m\u001b[36m \u001b[39m\u001b[32mIn[8]\u001b[39m\u001b[32m, line 36\u001b[39m, in \u001b[36mplot_tile\u001b[39m\u001b[34m(_)\u001b[39m\n\u001b[32m     33\u001b[39m proba_model_val = proba_model_slider.val\n\u001b[32m     35\u001b[39m id_entity = encode_id(prior_val, proba_model_val)\n\u001b[32m---> \u001b[39m\u001b[32m36\u001b[39m id_entity = \u001b[43mid_dict\u001b[49m\u001b[43m[\u001b[49m\u001b[43mid_entity\u001b[49m\u001b[43m]\u001b[49m\n\u001b[32m     37\u001b[39m flavor = RankingFlavor(entity = entities_list[id_entity],\n\u001b[32m     38\u001b[39m                    entity_list=entities_list,\n\u001b[32m     39\u001b[39m                    name = \u001b[33m\"\u001b[39m\u001b[33mRank Flavor - No Skill\u001b[39m\u001b[33m\"\u001b[39m)\n\u001b[32m     41\u001b[39m tile = RankingTile(name = \u001b[33m\"\u001b[39m\u001b[33mRank Tile - No Skill\u001b[39m\u001b[33m\"\u001b[39m, \n\u001b[32m     42\u001b[39m                 parameterization=param,\n\u001b[32m     43\u001b[39m                 flavor=flavor)\n",
      "\u001b[31mKeyError\u001b[39m: '0.50_0.50'"
     ]
    }
   ],
   "source": [
    "fig, ax = plt.subplots()\n",
    "plt.subplots_adjust(bottom=0.25)  # leave space for sliders\n",
    "\n",
    "a = np.linspace(0, 1, 101)\n",
    "b = np.linspace(0, 1, 101)\n",
    "a2, b2 = np.meshgrid(a, b)\n",
    "\n",
    "\n",
    "prior_ax = fig.add_axes([0.2, 0.1, 0.6, 0.03])\n",
    "prior_pos_slider = Slider(\n",
    "    ax=prior_ax,\n",
    "    label=r'$\\pi_+$',\n",
    "    valmin=0.0,\n",
    "    valmax=1.0,\n",
    "    valinit=0.5,\n",
    "    valstep=0.01,\n",
    "    orientation='horizontal'\n",
    ")\n",
    "\n",
    "proba_ax = fig.add_axes([0.2, 0.05, 0.6, 0.03])\n",
    "proba_model_slider = Slider(\n",
    "    ax=proba_ax,\n",
    "    label='P(+)',\n",
    "    valmin=0.0,\n",
    "    valmax=1.0,\n",
    "    valinit=0.5,\n",
    "    valstep=0.01,\n",
    "    orientation='horizontal'\n",
    ")\n",
    "\n",
    "def plot_tile(_=None):\n",
    "    prior_val = prior_pos_slider.val\n",
    "    proba_model_val = proba_model_slider.val\n",
    "\n",
    "    id_entity = encode_id(prior_val, proba_model_val)\n",
    "    id_entity = id_dict[id_entity]\n",
    "    flavor = RankingFlavor(entity = entities_list[id_entity],\n",
    "                       entity_list=entities_list,\n",
    "                       name = \"Rank Flavor - No Skill\")\n",
    "\n",
    "    tile = RankingTile(name = \"Rank Tile - No Skill\", \n",
    "                    parameterization=param,\n",
    "                    flavor=flavor)\n",
    "    mat = tile(a2, b2)\n",
    "\n",
    "    ax.clear()\n",
    "    ax.imshow(mat, extent=[0, 1, 0, 1], origin='lower', aspect='equal')\n",
    "    fig.canvas.draw_idle()\n",
    "\n",
    "prior_pos_slider.on_changed(plot_tile)\n",
    "proba_model_slider.on_changed(plot_tile)\n",
    "\n",
    "# initial draw\n",
    "plot_tile()\n",
    "plt.show()\n",
    "\n",
    "# TODO fix dictionary error\n"
   ]
  }
 ],
 "metadata": {
  "kernelspec": {
   "display_name": "tile-env",
   "language": "python",
   "name": "python3"
  },
  "language_info": {
   "codemirror_mode": {
    "name": "ipython",
    "version": 3
   },
   "file_extension": ".py",
   "mimetype": "text/x-python",
   "name": "python",
   "nbconvert_exporter": "python",
   "pygments_lexer": "ipython3",
   "version": "3.12.11"
  }
 },
 "nbformat": 4,
 "nbformat_minor": 5
}
