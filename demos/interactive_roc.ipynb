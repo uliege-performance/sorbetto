{
 "cells": [
  {
   "cell_type": "markdown",
   "id": "46b192d6",
   "metadata": {},
   "source": [
    "# Exploring the relationg between the tile and ROC space"
   ]
  },
  {
   "cell_type": "markdown",
   "id": "963bdd5e",
   "metadata": {},
   "source": [
    "> TODO: explications"
   ]
  },
  {
   "cell_type": "code",
   "execution_count": 13,
   "id": "0e2c0c37",
   "metadata": {},
   "outputs": [],
   "source": [
    "%matplotlib tk\n",
    "\n",
    "import os\n",
    "import json\n",
    "import numpy as np\n",
    "from utils import get_colors\n",
    "import matplotlib.pyplot as plt\n",
    "from matplotlib.backend_bases import MouseButton\n",
    "\n",
    "from sorbetto.core.entity import Entity\n",
    "from sorbetto.ranking.ranking_score import RankingScore\n",
    "from sorbetto.tile.empty_tile import EmptyTile\n",
    "from sorbetto.core.importance import Importance\n",
    "from sorbetto.performance.two_class_classification_performance import TwoClassClassificationPerformance\n",
    "from sorbetto.parameterization.parameterization_default import ParameterizationDefault"
   ]
  },
  {
   "cell_type": "code",
   "execution_count": 14,
   "id": "555cf638",
   "metadata": {},
   "outputs": [],
   "source": [
    "# loading data\n",
    "\n",
    "PATH_DATA = os.path.join(os.getcwd(), 'data', 'semantic_segmentation_methods.json')\n",
    "\n",
    "MAP_DATASETS = {\n",
    "    'Cityscapes': '♠',\n",
    "    'ADE20K': '♥',\n",
    "    'Pascal VOC 2012': '♦',\n",
    "    'COCO-Stuff 164k': '♣'\n",
    "}\n",
    "\n",
    "def read_json(filePath:str):\n",
    "    \"\"\"\n",
    "    Function to read json \n",
    "    \"\"\"\n",
    "    \n",
    "    with open(filePath, 'r') as f:\n",
    "        data = json.load(f)\n",
    "    return data\n",
    "\n",
    "\n",
    "def read_data(filePath:str = PATH_DATA):\n",
    "    data = read_json(filePath)\n",
    "\n",
    "    processed_data = []\n",
    "\n",
    "    colors = get_colors(len(data))\n",
    "\n",
    "    # convert each instance into an Entity\n",
    "    for i, elem in enumerate(data):\n",
    "        performance = TwoClassClassificationPerformance(\n",
    "            ptp=elem['proba_tp'],\n",
    "            ptn=elem['proba_tn'],\n",
    "            pfp=elem['proba_fp'],\n",
    "            pfn=elem['proba_fn']\n",
    "        )\n",
    "\n",
    "        entity = Entity(\n",
    "            performance= performance,\n",
    "            name = f\"{elem['model']} {MAP_DATASETS[elem['learning_set']]}\",\n",
    "            color= colors[i]\n",
    "        )\n",
    "\n",
    "        processed_data.append(entity)\n",
    "\n",
    "    return processed_data\n",
    "\n",
    "\n",
    "data = read_data()"
   ]
  },
  {
   "cell_type": "code",
   "execution_count": 15,
   "id": "c31aae64",
   "metadata": {},
   "outputs": [],
   "source": [
    "# selecting the entity that will be used to compute the tile\n",
    "\n",
    "id_entity = 0\n",
    "\n",
    "perf = data[id_entity].performance"
   ]
  },
  {
   "cell_type": "code",
   "execution_count": 16,
   "id": "7abfc459",
   "metadata": {},
   "outputs": [],
   "source": [
    "# global variables\n",
    "\n",
    "parameterization = ParameterizationDefault()\n",
    "tile = EmptyTile(\"Tile\", parameterization)\n",
    "tile2 = EmptyTile(\"ROC\", parameterization)\n",
    "PRIOR_POS = 0.5"
   ]
  },
  {
   "cell_type": "code",
   "execution_count": 17,
   "id": "572cdeba",
   "metadata": {},
   "outputs": [],
   "source": [
    "# helper functions\n",
    "\n",
    "def showRankingScore(score, fig, ax, priorPos = PRIOR_POS):\n",
    "        score.drawInROC(fig, ax, priorPos=priorPos, show_colorbar = False)\n",
    "\n",
    "def get_ranking_score(a, b):\n",
    "    itp = a; itn = 1-a; ifp = 1-b; ifn = b\n",
    "    importance = Importance(itn=itn, ifp=ifp, ifn=ifn, itp=itp)\n",
    "    return RankingScore(importance=importance)\n",
    "\n",
    "def plot_roc(fig, ax, coords):\n",
    "    importance = parameterization.getCanonicalImportance(*coords)\n",
    "    rankScore = RankingScore(importance=importance)\n",
    "    showRankingScore(rankScore, fig, ax)\n",
    "    ax.set_box_aspect(1)\n",
    "    ax.set_anchor('C')\n",
    "    ax.set_title('ROC', fontsize=12, pad=20)"
   ]
  },
  {
   "cell_type": "code",
   "execution_count": 18,
   "id": "1c57cc8a",
   "metadata": {},
   "outputs": [],
   "source": [
    "fig, ax = plt.subplots(1, 2, layout=\"constrained\")\n",
    "tile.draw(fig, ax[0])\n",
    "tile2.draw(fig, ax[1])\n",
    "right_spec = ax[1].get_subplotspec()\n",
    "\n",
    "\n",
    "def on_move(event):\n",
    "    if event.inaxes is not ax[0] or event.xdata is None or event.ydata is None:\n",
    "        return\n",
    "\n",
    "    fig.delaxes(ax[1])\n",
    "    ax[1] = fig.add_subplot(right_spec)\n",
    "\n",
    "    plot_roc(fig, ax[1], (event.xdata, event.ydata))\n",
    "\n",
    "    fig.canvas.draw_idle()\n",
    "\n",
    "\n",
    "cid_move = fig.canvas.mpl_connect('motion_notify_event', on_move)\n",
    "\n",
    "plt.show()"
   ]
  }
 ],
 "metadata": {
  "kernelspec": {
   "display_name": "tile-env",
   "language": "python",
   "name": "python3"
  },
  "language_info": {
   "codemirror_mode": {
    "name": "ipython",
    "version": 3
   },
   "file_extension": ".py",
   "mimetype": "text/x-python",
   "name": "python",
   "nbconvert_exporter": "python",
   "pygments_lexer": "ipython3",
   "version": "3.12.11"
  }
 },
 "nbformat": 4,
 "nbformat_minor": 5
}
