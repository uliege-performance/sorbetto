{
 "cells": [
  {
   "cell_type": "markdown",
   "metadata": {},
   "source": [
    "# From ROC space to the Tile"
   ]
  },
  {
   "cell_type": "code",
   "execution_count": 1,
   "metadata": {},
   "outputs": [],
   "source": [
    "%matplotlib tk\n",
    "\n",
    "import matplotlib.pyplot as plt\n",
    "from matplotlib.backend_bases import MouseButton\n",
    "from matplotlib.widgets import Slider\n",
    "\n",
    "from sorbetto.annotation import AnnotationIsovalueCurves\n",
    "from sorbetto.flavor import ValueFlavor\n",
    "from sorbetto.parameterization import ParameterizationDefault\n",
    "from sorbetto.performance import TwoClassClassificationPerformance\n",
    "from sorbetto.tile import ValueTile"
   ]
  },
  {
   "cell_type": "code",
   "execution_count": 2,
   "metadata": {},
   "outputs": [],
   "source": [
    "# Set initial values\n",
    "prior = 0.5\n",
    "fpr, tpr = 0.5, 0.5\n",
    "parameterization = ParameterizationDefault()\n",
    "\n",
    "# Draw colorbar only once\n",
    "draw_cbar = True\n",
    "\n",
    "\n",
    "# Compute a performance from a given prior, tpr, fpr\n",
    "def performance_from_roc(prior, tpr, fpr):\n",
    "    tn = (1 - prior) * (1 - fpr)\n",
    "    fp = (1 - prior) * fpr\n",
    "    fn = prior * (1 - tpr)\n",
    "    tp = prior * tpr\n",
    "    return TwoClassClassificationPerformance(tn, fp, fn, tp)\n",
    "\n",
    "\n",
    "# Draw a ROC and a value tile from a given prior, tpr, fpr\n",
    "def draw_perf(fig, axes, prior, tpr, fpr):\n",
    "    global draw_cbar\n",
    "\n",
    "    performance = performance_from_roc(prior, tpr=tpr, fpr=fpr)\n",
    "    flavor = ValueFlavor(performance=performance)\n",
    "    tile = ValueTile(parameterization=parameterization, flavor=flavor)\n",
    "    tile.disable_colorbar = not draw_cbar\n",
    "\n",
    "    isolines_annotation = AnnotationIsovalueCurves()\n",
    "    tile.appendAnnotation(isolines_annotation)\n",
    "\n",
    "    roc_ax, tile_ax = axes\n",
    "    tile.draw(fig, tile_ax)\n",
    "    performance.drawInROC(fig, roc_ax)\n",
    "    draw_cbar = False\n"
   ]
  },
  {
   "cell_type": "code",
   "execution_count": 3,
   "metadata": {},
   "outputs": [],
   "source": [
    "# Create the initial figure\n",
    "fig, axes = plt.subplots(1, 2, figsize=(8, 5))\n",
    "draw_perf(fig, axes, prior, tpr, fpr)\n",
    "fig.suptitle(\"Click on the ROC plot to select a performance\", fontweight=\"bold\")\n",
    "fig.tight_layout(pad=1.5)\n",
    "axslide = fig.add_axes([0.1, 0.05, 0.8, 0.03])\n",
    "slider = Slider(ax=axslide, label=r\"$\\pi_+$\", valmin=0, valmax=1, valinit=prior)\n",
    "fig.subplots_adjust(bottom=0.2)\n",
    "plt.show()\n",
    "\n",
    "\n",
    "# Update when clicking the ROC plot\n",
    "def update_click(event):\n",
    "    if event.inaxes != axes[0]:\n",
    "        return\n",
    "    elif event.button is MouseButton.LEFT:\n",
    "        global fpr, tpr\n",
    "        fpr, tpr = event.xdata, event.ydata\n",
    "\n",
    "        for ax in axes:\n",
    "            ax.clear()\n",
    "        draw_perf(fig, axes, prior, tpr, fpr)\n",
    "        plt.show()\n",
    "\n",
    "\n",
    "# Update when moving the prior slider\n",
    "def update_slider(val):\n",
    "    global prior\n",
    "    prior = val\n",
    "\n",
    "    for ax in axes:\n",
    "        ax.clear()\n",
    "    draw_perf(fig, axes, prior, tpr, fpr)\n",
    "    plt.show()\n",
    "\n",
    "\n",
    "plt.connect(\"button_press_event\", update_click)\n",
    "slider.on_changed(update_slider);"
   ]
  }
 ],
 "metadata": {
  "kernelspec": {
   "display_name": "Python 3",
   "language": "python",
   "name": "python3"
  },
  "language_info": {
   "codemirror_mode": {
    "name": "ipython",
    "version": 3
   },
   "file_extension": ".py",
   "mimetype": "text/x-python",
   "name": "python",
   "nbconvert_exporter": "python",
   "pygments_lexer": "ipython3",
   "version": "3.12.11"
  }
 },
 "nbformat": 4,
 "nbformat_minor": 2
}
