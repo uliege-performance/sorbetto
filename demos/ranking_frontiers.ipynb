{
 "cells": [
  {
   "cell_type": "markdown",
   "id": "099bf0bc-7bc0-47f8-b830-e584b731e6e2",
   "metadata": {},
   "source": [
    "# Exploring the frontiers between rankings"
   ]
  },
  {
   "cell_type": "code",
   "execution_count": 1,
   "id": "fafd9819-48a5-4a03-b474-8d2e05813103",
   "metadata": {},
   "outputs": [],
   "source": [
    "%matplotlib tk\n",
    "\n",
    "import matplotlib.pyplot as plt\n",
    "\n",
    "from sorbetto.annotation import AnnotationFrontiersBetweenRankings\n",
    "from sorbetto.core import Entity\n",
    "from sorbetto.parameterization import ParameterizationDefault\n",
    "from sorbetto.performance import FiniteSetOfTwoClassClassificationPerformances\n",
    "from sorbetto.performance.distribution import (\n",
    "    UniformDistributionOfTwoClassClassificationPerformances,\n",
    ")\n",
    "from sorbetto.ranking import RankingInducedByScore, RankingScore\n",
    "from sorbetto.tile import Tile"
   ]
  },
  {
   "cell_type": "code",
   "execution_count": 2,
   "id": "f1b62b28-3ba9-42db-bfe5-d128102c6484",
   "metadata": {},
   "outputs": [],
   "source": [
    "# We create a random distribution to draw performances from\n",
    "distri = UniformDistributionOfTwoClassClassificationPerformances(\n",
    "    \"the uniform distribution\"\n",
    ")\n",
    "\n",
    "ca = Entity(distri.drawOneAtRandom(), 'Classifier \"A\"', \"mediumvioletred\")\n",
    "cb = Entity(distri.drawOneAtRandom(), 'Classifier \"B\"', \"mediumslateblue\")\n",
    "cc = Entity(distri.drawOneAtRandom(), 'Classifier \"C\"', \"mediumseagreen\")\n",
    "cd = Entity(distri.drawOneAtRandom(), 'Classifier \"D\"', \"sandybrown\")\n",
    "ce = Entity(distri.drawOneAtRandom(), 'Classifier \"E\"', \"lightcoral\")\n",
    "\n",
    "# We create a set of entities with random performances\n",
    "entities = [ca, cb, cc, cd, ce]"
   ]
  },
  {
   "cell_type": "code",
   "execution_count": 3,
   "id": "810fba61",
   "metadata": {},
   "outputs": [],
   "source": [
    "# We will use the default parameterization for drawing the Tile\n",
    "parameterization = ParameterizationDefault()\n",
    "\n",
    "\n",
    "# Drawing the Tile with ranking frontiers\n",
    "def draw_tile(fig, ax):\n",
    "    tile = Tile(parameterization=parameterization)\n",
    "    performances = FiniteSetOfTwoClassClassificationPerformances(\n",
    "        [e.performance for e in entities]\n",
    "    )\n",
    "    annotation = AnnotationFrontiersBetweenRankings(performances)\n",
    "    tile.appendAnnotation(annotation)\n",
    "    tile.draw(fig, ax)\n",
    "\n",
    "\n",
    "# Drawing the ranking ladder induced by a specific score\n",
    "def draw_ranking(fig, ax, coords):\n",
    "    importance = parameterization.getCanonicalImportance(*coords)\n",
    "    score = RankingScore(importance, name=\"Ranking Score\")\n",
    "    ranking = RankingInducedByScore(entities, score)\n",
    "    ranking.draw(fig, ax)"
   ]
  },
  {
   "cell_type": "code",
   "execution_count": 4,
   "id": "ebabbbc5-4d90-4986-82d0-370039ebfbc2",
   "metadata": {},
   "outputs": [],
   "source": [
    "# We create the fiture with two subplots: one for the Tile and one for the ranking\n",
    "fig, ax = plt.subplots(1, 2, figsize=(8, 5))\n",
    "draw_tile(fig, ax[0])\n",
    "draw_ranking(fig, ax[1], (0.5, 0.5))\n",
    "fig.suptitle(\n",
    "    \"Move the mouse over the Tile to view the corresponding ranking\", fontweight=\"bold\"\n",
    ")\n",
    "plt.tight_layout()\n",
    "\n",
    "\n",
    "# Update the selected score when moving the mouse\n",
    "def update(event):\n",
    "    if event.inaxes != ax[0]:\n",
    "        return\n",
    "\n",
    "    ax[1].clear()\n",
    "    draw_ranking(fig, ax[1], (event.xdata, event.ydata))\n",
    "    plt.show()\n",
    "\n",
    "\n",
    "plt.connect(\"motion_notify_event\", update)\n",
    "plt.show()"
   ]
  }
 ],
 "metadata": {
  "kernelspec": {
   "display_name": "Python 3",
   "language": "python",
   "name": "python3"
  },
  "language_info": {
   "codemirror_mode": {
    "name": "ipython",
    "version": 3
   },
   "file_extension": ".py",
   "mimetype": "text/x-python",
   "name": "python",
   "nbconvert_exporter": "python",
   "pygments_lexer": "ipython3",
   "version": "3.12.11"
  }
 },
 "nbformat": 4,
 "nbformat_minor": 5
}
