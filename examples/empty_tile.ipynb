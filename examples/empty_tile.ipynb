{
 "cells": [
  {
   "cell_type": "markdown",
   "id": "9e8add62",
   "metadata": {},
   "source": [
    "# Annotations on empty tiles"
   ]
  },
  {
   "cell_type": "markdown",
   "id": "eff9f597",
   "metadata": {},
   "source": [
    "For representation purposes, this library provides an empty tile that does not require any flavor. \n",
    "\n",
    "Among the different possibilities, it is possible to annotate the tile with:\n",
    "- annotated points\n",
    "- ..."
   ]
  },
  {
   "cell_type": "code",
   "execution_count": 1,
   "id": "19bf4e04",
   "metadata": {},
   "outputs": [],
   "source": [
    "from sorbetto.tile.empty_tile import EmptyTile\n",
    "from sorbetto.parameterization.parameterization_default import ParameterizationDefault"
   ]
  },
  {
   "cell_type": "code",
   "execution_count": 2,
   "id": "aace2d14",
   "metadata": {},
   "outputs": [],
   "source": [
    "Param_default = ParameterizationDefault()\n",
    "empty_tile = EmptyTile(name = \"Empty Tile\",\n",
    "                       parameterization = Param_default)"
   ]
  },
  {
   "cell_type": "code",
   "execution_count": 3,
   "id": "5227b9ac",
   "metadata": {},
   "outputs": [],
   "source": [
    "#TODO reproduce bellow code wiht annotations from the tile"
   ]
  },
  {
   "cell_type": "code",
   "execution_count": null,
   "id": "1023951d",
   "metadata": {},
   "outputs": [],
   "source": []
  },
  {
   "cell_type": "code",
   "execution_count": 4,
   "id": "2d3f9a59",
   "metadata": {},
   "outputs": [
    {
     "data": {
      "image/png": "[encoded data removed]",
      "text/plain": [
       "<Figure size 500x500 with 1 Axes>"
      ]
     },
     "metadata": {},
     "output_type": "display_data"
    }
   ],
   "source": [
    "import matplotlib.pyplot as plt\n",
    "\n",
    "def annotate_position(fig, \n",
    "                      ax, \n",
    "                      x: float, \n",
    "                      y: float, \n",
    "                      label: str, \n",
    "                      ha: str = 'center', \n",
    "                      va: str = 'center', \n",
    "                      fontsize: int = 14, \n",
    "                      **kwargs):\n",
    "    \"\"\"Annotate a point on the plot.\"\"\"\n",
    "    ax.text(x, y, label, ha=ha, va=va, fontsize=fontsize, **kwargs)\n",
    "\n",
    "fig, ax = plt.subplots(figsize=(5, 5))\n",
    "\n",
    "# Expand limits to fit arrows\n",
    "ax.set_xlim(-0.1, 1.1)\n",
    "ax.set_ylim(-0.1, 1.1)\n",
    "\n",
    "ax.plot([0, 1, 1, 0, 0], [0, 0, 1, 1, 0], color='black')\n",
    "ax.fill_between([0, 1], 0, 1, color='lightgray', zorder=0)\n",
    "\n",
    "# Corner annotations\n",
    "corner_annotations = {\n",
    "    \"NPV\": (0.0, 1.0, 'left', 'top', {\"style\":\"italic\"}),\n",
    "    \"TPR = $F_\\\\infty$\": (1.0, 1.0, 'right', 'top', {\"style\":\"italic\"}),\n",
    "    \"TNR\": (0.0, 0.0, 'left', 'bottom', {\"style\":\"italic\"}),\n",
    "    \"PPV = $F_0$\": (1.0, 0.0, 'right', 'bottom', {\"style\":\"italic\"}),\n",
    "}\n",
    "\n",
    "# Midpoint and center annotations\n",
    "mid_annotations = {\n",
    "    \"F₁\": (0.90, 0.5, 'left', 'center', {}),\n",
    "    \"A\": (0.45, 0.45, 'center', 'center', {}),\n",
    "}\n",
    "\n",
    "annotations = {**corner_annotations, **mid_annotations}\n",
    "\n",
    "# Annotate all points using custom function\n",
    "for label, (x, y, ha, va, options) in annotations.items():\n",
    "    annotate_position(fig, ax, x, y, label, ha=ha, va=va, fontsize=14, **options)\n",
    "\n",
    "# Red points (corners + center)\n",
    "highlight_points = [(0,0), (1,0), (0,1), (1,1), (0.5,0.5)]\n",
    "for x, y in highlight_points:\n",
    "    ax.plot(x, y, 'o', color='lightcoral', markersize=8)\n",
    "\n",
    "# Black points (edge midpoints)\n",
    "edge_midpoints = [(0.5, 0.0), (1.0, 0.5), (0.5, 1.0), (0.0, 0.5)]\n",
    "for x, y in edge_midpoints:\n",
    "    ax.plot(x, y, 'o', color='black')\n",
    "\n",
    "ax.set_title(\"Canonical Ranking Scores\", fontsize=14, pad=10)\n",
    "ax.set_xticks([])\n",
    "ax.set_yticks([])\n",
    "\n",
    "# Hide all spines\n",
    "for spine in ['top', 'right', 'bottom', 'left']:\n",
    "    ax.spines[spine].set_visible(False)\n",
    "\n",
    "# Axis arrows\n",
    "arrowprops = dict(arrowstyle=\"->\", lw=1.5, color='black')\n",
    "# → X-axis arrow (below)\n",
    "ax.annotate('', xy=(1.0, -0.1), xytext=(0.0, -0.1), arrowprops=arrowprops)\n",
    "# ↑ Y-axis arrow (left)\n",
    "ax.annotate('', xy=(-0.1, 1.0), xytext=(-0.1, 0.0), arrowprops=arrowprops)\n",
    "\n",
    "annotate_position(fig, ax, 1.0, -0.1, \"$tp$\", ha='left', va='center', fontsize=12)\n",
    "annotate_position(fig, ax, -0.025, -0.075,  \"tn\", ha='center', va='top', fontsize=12)\n",
    "\n",
    "annotate_position(fig, ax, -0.1, 1.0, \"$fn$\", ha='center', va='bottom', fontsize=12)\n",
    "annotate_position(fig, ax, -0.075, -0.025, \"fp\", ha='right', va='center', fontsize=12)\n",
    "\n",
    "\n",
    "ax.set_aspect('equal')\n",
    "plt.tight_layout()\n",
    "plt.show()"
   ]
  },
  {
   "cell_type": "code",
   "execution_count": 5,
   "id": "18c630d5",
   "metadata": {},
   "outputs": [
    {
     "data": {
      "text/plain": [
       "(0.0, 1.0)"
      ]
     },
     "execution_count": 5,
     "metadata": {},
     "output_type": "execute_result"
    }
   ],
   "source": [
    "Param_default.getBoundsParameter1()"
   ]
  },
  {
   "cell_type": "code",
   "execution_count": 8,
   "id": "e1a73913",
   "metadata": {},
   "outputs": [
    {
     "name": "stdout",
     "output_type": "stream",
     "text": [
      "{'markersize': 0}\n",
      "{'markersize': 0}\n",
      "{'markersize': 0}\n",
      "{'markersize': 0}\n",
      "{'markersize': 0}\n",
      "{'markersize': 0}\n"
     ]
    },
    {
     "data": {
      "image/png": "[encoded data removed]",
      "text/plain": [
       "<Figure size 500x500 with 1 Axes>"
      ]
     },
     "metadata": {},
     "output_type": "display_data"
    }
   ],
   "source": [
    "from sorbetto.geometry.point import Point\n",
    "from sorbetto.annotation.annotation_text import AnnotationText\n",
    "\n",
    "annotations_data = [\n",
    "    (Point(0.0, 1.0), \"NPV\", {'markersize': 0}),\n",
    "    (Point(1.0, 1.0), \"TPR = $F_\\\\infty$\", {'markersize': 0}),\n",
    "    (Point(0., 0.), \"TNR\", {'markersize': 0}),\n",
    "    (Point(1., 0.), \"PPV = $F_0$\", {'markersize': 0}),\n",
    "    (Point(0.9, 0.5), \"F₁\", {'markersize': 0}),\n",
    "    (Point(0.45, 0.45), \"A\", {'markersize': 0}),\n",
    "]\n",
    "\n",
    "annotations = [\n",
    "    AnnotationText(location=pt, label=lbl, **options)\n",
    "    for pt, lbl, options in annotations_data\n",
    "]\n",
    "\n",
    "\n",
    "fig, ax = plt.subplots(figsize=(5, 5))\n",
    "ax.set_xlim(-0.1, 1.1)\n",
    "ax.set_ylim(-0.1, 1.1)\n",
    "\n",
    "# Draw square and background\n",
    "ax.fill_between([0, 1], 0, 1, color='lightgray', zorder=0)\n",
    "ax.plot([0, 1, 1, 0, 0], [0, 0, 1, 1, 0], color='black')\n",
    "\n",
    "# Plot red corner/center dots manually\n",
    "highlight = [(0,0), (1,0), (0,1), (1,1), (0.5,0.5)]\n",
    "for x, y in highlight:\n",
    "    ax.plot(x, y, 'o', color='lightcoral', markersize=8)\n",
    "\n",
    "# Plot black edge midpoints\n",
    "for x, y in [(0.5, 0.0), (1.0, 0.5), (0.5, 1.0), (0.0, 0.5)]:\n",
    "    ax.plot(x, y, 'o', color='black')\n",
    "\n",
    "# Draw each annotation via AnnotationText.draw()\n",
    "tile = EmptyTile(name = \"Empty tile\", parameterization=Param_default)\n",
    "\n",
    "for ann in annotations:\n",
    "    ann.draw(tile, fig, ax)\n",
    "\n",
    "# Hide ticks & spines\n",
    "ax.set_xticks([])\n",
    "ax.set_yticks([])\n",
    "for spine in ['top', 'right', 'bottom', 'left']:\n",
    "    ax.spines[spine].set_visible(False)\n",
    "\n",
    "ax.set_title(\"Canonical Ranking Scores\", fontsize=14, pad=10)\n",
    "\n",
    "# Axis arrows & labels\n",
    "arrowprops = dict(arrowstyle=\"->\", lw=1.5, color='black')\n",
    "ax.annotate('', xy=(1.0, -0.1), xytext=(0.0, -0.1), arrowprops=arrowprops)  # x-axis\n",
    "ax.annotate('', xy=(-0.1, 1.0), xytext=(-0.1, 0.0), arrowprops=arrowprops)  # y-axis\n",
    "\n",
    "ax.text(1.0, -0.1, \"$tp$\", ha='left', va='center', fontsize=12)\n",
    "ax.text(0.0, -0.1, \"tn\", ha='center', va='top', fontsize=12)\n",
    "\n",
    "ax.text(-0.1, 1.0, \"$fn$\", ha='center', va='bottom', fontsize=12)\n",
    "ax.text(-0.1, 0.0, \"fp\", ha='right', va='center', fontsize=12)\n",
    "\n",
    "ax.set_aspect('equal')\n",
    "plt.tight_layout()\n",
    "plt.show()"
   ]
  },
  {
   "cell_type": "code",
   "execution_count": null,
   "id": "dc8783e5",
   "metadata": {},
   "outputs": [],
   "source": []
  }
 ],
 "metadata": {
  "kernelspec": {
   "display_name": "tile-env",
   "language": "python",
   "name": "python3"
  },
  "language_info": {
   "codemirror_mode": {
    "name": "ipython",
    "version": 3
   },
   "file_extension": ".py",
   "mimetype": "text/x-python",
   "name": "python",
   "nbconvert_exporter": "python",
   "pygments_lexer": "ipython3",
   "version": "3.12.11"
  }
 },
 "nbformat": 4,
 "nbformat_minor": 5
}
