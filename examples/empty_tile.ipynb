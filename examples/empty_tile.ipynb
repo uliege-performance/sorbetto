{
 "cells": [
  {
   "cell_type": "markdown",
   "id": "9e8add62",
   "metadata": {},
   "source": [
    "# Annotations on empty tiles"
   ]
  },
  {
   "cell_type": "markdown",
   "id": "eff9f597",
   "metadata": {},
   "source": [
    "For representation purposes, this library provides an empty tile that does not require any flavor. \n",
    "\n",
    "Among the different possibilities, it is possible to annotate the tile with:\n",
    "- annotated points\n",
    "- ..."
   ]
  },
  {
   "cell_type": "code",
   "execution_count": 1,
   "id": "19bf4e04",
   "metadata": {},
   "outputs": [],
   "source": [
    "from sorbetto.tile.empty_tile import EmptyTile\n",
    "from sorbetto.parameterization.parameterization_default import ParameterizationDefault"
   ]
  },
  {
   "cell_type": "code",
   "execution_count": 2,
   "id": "aace2d14",
   "metadata": {},
   "outputs": [],
   "source": [
    "Param_default = ParameterizationDefault()\n",
    "empty_tile = EmptyTile(name = \"Empty Tile\",\n",
    "                       parameterization = Param_default)"
   ]
  },
  {
   "cell_type": "code",
   "execution_count": 3,
   "id": "338c23ec",
   "metadata": {},
   "outputs": [
    {
     "ename": "NotImplementedError",
     "evalue": "Not enough code to complete this notebook",
     "output_type": "error",
     "traceback": [
      "\u001b[31m---------------------------------------------------------------------------\u001b[39m",
      "\u001b[31mNotImplementedError\u001b[39m                       Traceback (most recent call last)",
      "\u001b[36mCell\u001b[39m\u001b[36m \u001b[39m\u001b[32mIn[3]\u001b[39m\u001b[32m, line 1\u001b[39m\n\u001b[32m----> \u001b[39m\u001b[32m1\u001b[39m \u001b[38;5;28;01mraise\u001b[39;00m \u001b[38;5;167;01mNotImplementedError\u001b[39;00m(\u001b[33m\"\u001b[39m\u001b[33mNot enough code to complete this notebook\u001b[39m\u001b[33m\"\u001b[39m)\n",
      "\u001b[31mNotImplementedError\u001b[39m: Not enough code to complete this notebook"
     ]
    }
   ],
   "source": [
    "raise NotImplementedError(\"Not enough code to complete this notebook\")"
   ]
  }
 ],
 "metadata": {
  "kernelspec": {
   "display_name": "tile-env",
   "language": "python",
   "name": "python3"
  },
  "language_info": {
   "codemirror_mode": {
    "name": "ipython",
    "version": 3
   },
   "file_extension": ".py",
   "mimetype": "text/x-python",
   "name": "python",
   "nbconvert_exporter": "python",
   "pygments_lexer": "ipython3",
   "version": "3.12.11"
  }
 },
 "nbformat": 4,
 "nbformat_minor": 5
}
