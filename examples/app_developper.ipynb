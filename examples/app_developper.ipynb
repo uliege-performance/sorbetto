{
 "cells": [
  {
   "cell_type": "code",
   "execution_count": null,
   "id": "4ad12842",
   "metadata": {},
   "outputs": [],
   "source": [
    "import os\n",
    "import numpy as np\n",
    "import matplotlib.pyplot as plt\n",
    "from typing import Union, List, Callable, Optional, Dict, Any\n",
    "import json\n",
    "from utils import get_colors\n"
   ]
  },
  {
   "cell_type": "markdown",
   "id": "7cdd9f76",
   "metadata": {},
   "source": [
    "# Sorbetto: a Python Library to Produce Classification Tiles With Different Flavors\n",
    "\n",
    "Code in [![GitHub stars](https://img.shields.io/github/stars/pierard/sorbetto?style=social)](https://github.com/pierard/sorbetto)"
   ]
  },
  {
   "cell_type": "markdown",
   "id": "b0e5ca18",
   "metadata": {},
   "source": [
    "## App developper\n",
    "\n",
    "It is natural to desire to understand the theoretical bases of scores used when evaluating and ranking performances.\n",
    "\n",
    "In this example, it is shown how the tile can be used for such objective.\n",
    "\n",
    "\n",
    "For more information, please refer to the  [*reference paper*](https://arxiv.org/abs/2412.04377)."
   ]
  },
  {
   "cell_type": "markdown",
   "id": "9cdfe7f1",
   "metadata": {},
   "source": [
    "### Installing the library\n",
    "\n",
    "If you are using google colab, it is possible to install the library by running the code below. If it is not the case, please refer to install.md to get a local installation."
   ]
  },
  {
   "cell_type": "code",
   "execution_count": null,
   "id": "8aaa440c",
   "metadata": {},
   "outputs": [
    {
     "ename": "FileExistsError",
     "evalue": "[Errno 17] File exists: './sorbetto'",
     "output_type": "error",
     "traceback": [
      "\u001b[31m---------------------------------------------------------------------------\u001b[39m\n",
      "\u001b[31mFileExistsError\u001b[39m                           Traceback (most recent call last)\n",
      "\u001b[36mCell\u001b[39m\u001b[36m \u001b[39m\u001b[32mIn[3]\u001b[39m\u001b[32m, line 4\u001b[39m\n",
      "\u001b[32m      1\u001b[39m \u001b[38;5;66;03m# only for google colab\u001b[39;00m\n",
      "\u001b[32m      3\u001b[39m CODE_DIR = \u001b[33m'\u001b[39m\u001b[33msorbetto\u001b[39m\u001b[33m'\u001b[39m\n",
      "\u001b[32m----> \u001b[39m\u001b[32m4\u001b[39m \u001b[43mos\u001b[49m\u001b[43m.\u001b[49m\u001b[43mmakedirs\u001b[49m\u001b[43m(\u001b[49m\u001b[33;43mf\u001b[39;49m\u001b[33;43m'\u001b[39;49m\u001b[33;43m./\u001b[39;49m\u001b[38;5;132;43;01m{\u001b[39;49;00m\u001b[43mCODE_DIR\u001b[49m\u001b[38;5;132;43;01m}\u001b[39;49;00m\u001b[33;43m'\u001b[39;49m\u001b[43m)\u001b[49m\n",
      "\u001b[32m      5\u001b[39m get_ipython().system(\u001b[33m'\u001b[39m\u001b[33mgit clone git@github.com:pierard/sorbetto.git $CODE_DIR\u001b[39m\u001b[33m'\u001b[39m)\n",
      "\u001b[32m      6\u001b[39m os.chdir(\u001b[33mf\u001b[39m\u001b[33m'\u001b[39m\u001b[33m./\u001b[39m\u001b[38;5;132;01m{\u001b[39;00mCODE_DIR\u001b[38;5;132;01m}\u001b[39;00m\u001b[33m'\u001b[39m)\n",
      "\n",
      "\u001b[36mFile \u001b[39m\u001b[32m<frozen os>:225\u001b[39m, in \u001b[36mmakedirs\u001b[39m\u001b[34m(name, mode, exist_ok)\u001b[39m\n",
      "\n",
      "\u001b[31mFileExistsError\u001b[39m: [Errno 17] File exists: './sorbetto'"
     ]
    }
   ],
   "source": [
    "# only for google colab\n",
    "\n",
    "CODE_DIR = 'sorbetto'\n",
    "os.makedirs(f'./{CODE_DIR}')\n",
    "!git clone git@github.com:pierard/sorbetto.git $CODE_DIR\n",
    "os.chdir(f'./{CODE_DIR}')\n",
    "\n",
    "!bash install.sh"
   ]
  },
  {
   "cell_type": "markdown",
   "id": "ab0c4f8e",
   "metadata": {},
   "source": [
    "### Data\n",
    "\n",
    "In this example, the list of entities are the different deep learning models from mmsegmentation that are obtained on cityscape data."
   ]
  },
  {
   "cell_type": "code",
   "execution_count": null,
   "id": "45bd08ee",
   "metadata": {},
   "outputs": [],
   "source": [
    "# loading data\n",
    "\n",
    "from sorbetto.core.entity import Entity\n",
    "from sorbetto.performance.two_class_classification import TwoClassClassificationPerformance\n",
    "\n",
    "PATH_DATA = os.path.join(os.getcwd(), 'data', 'semantic_segmentation_methods.json')\n",
    "\n",
    "MAP_DATASETS = {\n",
    "    'Cityscapes': '♠',\n",
    "    'ADE20K': '♥',\n",
    "    'Pascal VOC 2012': '♦',\n",
    "    'COCO-Stuff 164k': '♣'\n",
    "}\n",
    "\n",
    "def read_json(filePath:str):\n",
    "    \"\"\"\n",
    "    Function to read json \n",
    "    \"\"\"\n",
    "    \n",
    "    with open(filePath, 'r') as f:\n",
    "        data = json.load(f)\n",
    "    return data\n",
    "\n",
    "\n",
    "def read_data(filePath:str = PATH_DATA):\n",
    "    data = read_json(filePath)\n",
    "\n",
    "    processed_data = []\n",
    "\n",
    "    colors = get_colors(len(data))\n",
    "\n",
    "    # convert each instance into an Entity\n",
    "    for i, elem in enumerate(data):\n",
    "        performance = TwoClassClassificationPerformance(\n",
    "            ptp=elem['proba_tp'],\n",
    "            ptn=elem['proba_tn'],\n",
    "            pfp=elem['proba_fp'],\n",
    "            pfn=elem['proba_fn']\n",
    "        )\n",
    "\n",
    "        entity = Entity(\n",
    "            performance= performance,\n",
    "            name = f\"{elem['model']} {MAP_DATASETS[elem['learning_set']]}\",\n",
    "            color= colors[i]\n",
    "        )\n",
    "\n",
    "        processed_data.append(entity)\n",
    "\n",
    "    return processed_data\n",
    "\n",
    "data = read_data()"
   ]
  },
  {
   "cell_type": "code",
   "execution_count": null,
   "id": "35130236",
   "metadata": {},
   "outputs": [],
   "source": [
    "from sorbetto.analyses.analysis_app_developer import AnalysisForAppDeveloper\n",
    "from sorbetto.parametrization.parametrization_default import ParameterizationDefault\n",
    "\n",
    "min_a = ...\n",
    "max_a = ...\n",
    "min_b = ...\n",
    "max_b = ...\n",
    "performances = ...\n",
    "parametrization = ParameterizationDefault()\n",
    "resolution = 1001\n",
    "\n",
    "analysis_dev = AnalysisForAppDeveloper(\n",
    "    min_a=min_a,\n",
    "    max_a=max_a,\n",
    "    min_b=min_b,\n",
    "    max_b=max_b,\n",
    "    performances=performances,\n",
    "    parametrization=parametrization,\n",
    "    resolution=resolution\n",
    ")"
   ]
  },
  {
   "cell_type": "markdown",
   "id": "aaf5b058",
   "metadata": {},
   "source": [
    "### Entity Tile"
   ]
  },
  {
   "cell_type": "code",
   "execution_count": null,
   "id": "890b1775",
   "metadata": {},
   "outputs": [],
   "source": [
    "rank = ...\n",
    "entity_tile = analysis_dev.getEntityTile()"
   ]
  },
  {
   "cell_type": "markdown",
   "id": "8c340ace",
   "metadata": {},
   "source": [
    "### Value Tile"
   ]
  },
  {
   "cell_type": "code",
   "execution_count": null,
   "id": "47b5430a",
   "metadata": {},
   "outputs": [],
   "source": [
    "rank = ...\n",
    "entity_tile = analysis_dev.getEntityTile()"
   ]
  },
  {
   "cell_type": "markdown",
   "id": "aabb69b3",
   "metadata": {},
   "source": [
    "### Advice"
   ]
  },
  {
   "cell_type": "code",
   "execution_count": null,
   "id": "b6814d86",
   "metadata": {},
   "outputs": [],
   "source": [
    "rank = ...\n",
    "entity_tile = analysis_dev.getEntityTile()"
   ]
  }
 ],
 "metadata": {
  "language_info": {
   "name": "python"
  }
 },
 "nbformat": 4,
 "nbformat_minor": 5
}
