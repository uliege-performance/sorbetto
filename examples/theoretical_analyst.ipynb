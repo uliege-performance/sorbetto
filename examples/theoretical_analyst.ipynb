{
 "cells": [
  {
   "cell_type": "code",
   "execution_count": 1,
   "id": "9e611d33",
   "metadata": {},
   "outputs": [],
   "source": [
    "import os\n",
    "import numpy as np\n",
    "import matplotlib.pyplot as plt\n",
    "from typing import Union, List, Callable, Optional, Dict, Any\n",
    "import json\n",
    "from utils import get_colors"
   ]
  },
  {
   "cell_type": "markdown",
   "id": "648ce132",
   "metadata": {},
   "source": [
    "# Sorbetto: a Python Library to Produce Classification Tiles With Different Flavors\n",
    "\n",
    "Code in [![GitHub stars](https://img.shields.io/github/stars/pierard/sorbetto?style=social)](https://github.com/pierard/sorbetto)"
   ]
  },
  {
   "cell_type": "markdown",
   "id": "98cdfb71",
   "metadata": {},
   "source": [
    "## Theoretical Analyst \n",
    "\n",
    "The theoretical analyst is mainly interested in the foundations of evaluation. Instead of focusing on a particular model or application, they want to understand how different performance scores relate to one another. Their goal is to study the theoretical relationships between evaluation metrics, see how they correlate, and identify whether scores provide complementary or redundant information. In short, they care about the theory behind performance measures.\n",
    "\n",
    "In this example, it is shown how the tile can be used for such objective.\n",
    "\n",
    "\n",
    "For more information, please refer to the  [*reference paper*](https://arxiv.org/abs/2412.04377)."
   ]
  },
  {
   "cell_type": "markdown",
   "id": "6161f3ef",
   "metadata": {},
   "source": [
    "### Installing the library\n",
    "\n",
    "If you are using google colab, it is possible to install the library by running the code below. If it is not the case, please refer to install.md to get a local installation."
   ]
  },
  {
   "cell_type": "code",
   "execution_count": 3,
   "id": "9a54707f",
   "metadata": {},
   "outputs": [
    {
     "ename": "FileExistsError",
     "evalue": "[Errno 17] File exists: './sorbetto'",
     "output_type": "error",
     "traceback": [
      "\u001b[31m---------------------------------------------------------------------------\u001b[39m",
      "\u001b[31mFileExistsError\u001b[39m                           Traceback (most recent call last)",
      "\u001b[36mCell\u001b[39m\u001b[36m \u001b[39m\u001b[32mIn[3]\u001b[39m\u001b[32m, line 4\u001b[39m\n\u001b[32m      1\u001b[39m \u001b[38;5;66;03m# only for google colab\u001b[39;00m\n\u001b[32m      3\u001b[39m CODE_DIR = \u001b[33m'\u001b[39m\u001b[33msorbetto\u001b[39m\u001b[33m'\u001b[39m\n\u001b[32m----> \u001b[39m\u001b[32m4\u001b[39m \u001b[43mos\u001b[49m\u001b[43m.\u001b[49m\u001b[43mmakedirs\u001b[49m\u001b[43m(\u001b[49m\u001b[33;43mf\u001b[39;49m\u001b[33;43m'\u001b[39;49m\u001b[33;43m./\u001b[39;49m\u001b[38;5;132;43;01m{\u001b[39;49;00m\u001b[43mCODE_DIR\u001b[49m\u001b[38;5;132;43;01m}\u001b[39;49;00m\u001b[33;43m'\u001b[39;49m\u001b[43m)\u001b[49m\n\u001b[32m      5\u001b[39m get_ipython().system(\u001b[33m'\u001b[39m\u001b[33mgit clone git@github.com:pierard/sorbetto.git $CODE_DIR\u001b[39m\u001b[33m'\u001b[39m)\n\u001b[32m      6\u001b[39m os.chdir(\u001b[33mf\u001b[39m\u001b[33m'\u001b[39m\u001b[33m./\u001b[39m\u001b[38;5;132;01m{\u001b[39;00mCODE_DIR\u001b[38;5;132;01m}\u001b[39;00m\u001b[33m'\u001b[39m)\n",
      "\u001b[36mFile \u001b[39m\u001b[32m<frozen os>:225\u001b[39m, in \u001b[36mmakedirs\u001b[39m\u001b[34m(name, mode, exist_ok)\u001b[39m\n",
      "\u001b[31mFileExistsError\u001b[39m: [Errno 17] File exists: './sorbetto'"
     ]
    }
   ],
   "source": [
    "# only for google colab\n",
    "\n",
    "CODE_DIR = 'sorbetto'\n",
    "os.makedirs(f'./{CODE_DIR}')\n",
    "!git clone git@github.com:pierard/sorbetto.git $CODE_DIR\n",
    "os.chdir(f'./{CODE_DIR}')\n",
    "\n",
    "!bash install.sh"
   ]
  },
  {
   "cell_type": "markdown",
   "id": "b9e3f0c9",
   "metadata": {},
   "source": [
    "### Data\n",
    "\n",
    "In this example, the list of entities are the different deep learning models from mmsegmentation that are obtained on cityscape data."
   ]
  },
  {
   "cell_type": "code",
   "execution_count": 2,
   "id": "afcaae3e",
   "metadata": {},
   "outputs": [],
   "source": [
    "# loading data\n",
    "\n",
    "from sorbetto.core.entity import Entity\n",
    "from sorbetto.performance.two_class_classification import TwoClassClassificationPerformance\n",
    "\n",
    "PATH_DATA = os.path.join(os.getcwd(), 'data', 'semantic_segmentation_methods.json')\n",
    "\n",
    "MAP_DATASETS = {\n",
    "    'Cityscapes': '♠',\n",
    "    'ADE20K': '♥',\n",
    "    'Pascal VOC 2012': '♦',\n",
    "    'COCO-Stuff 164k': '♣'\n",
    "}\n",
    "\n",
    "def read_json(filePath:str):\n",
    "    \"\"\"\n",
    "    Function to read json \n",
    "    \"\"\"\n",
    "    \n",
    "    with open(filePath, 'r') as f:\n",
    "        data = json.load(f)\n",
    "    return data\n",
    "\n",
    "\n",
    "def read_data(filePath:str = PATH_DATA):\n",
    "    data = read_json(filePath)\n",
    "\n",
    "    processed_data = []\n",
    "\n",
    "    colors = get_colors(len(data))\n",
    "\n",
    "    # convert each instance into an Entity\n",
    "    for i, elem in enumerate(data):\n",
    "        performance = TwoClassClassificationPerformance(\n",
    "            ptp=elem['proba_tp'],\n",
    "            ptn=elem['proba_tn'],\n",
    "            pfp=elem['proba_fp'],\n",
    "            pfn=elem['proba_fn']\n",
    "        )\n",
    "\n",
    "        entity = Entity(\n",
    "            performance= performance,\n",
    "            name = f\"{elem['model']} {MAP_DATASETS[elem['learning_set']]}\",\n",
    "            color= colors[i]\n",
    "        )\n",
    "\n",
    "        processed_data.append(entity)\n",
    "\n",
    "    return processed_data\n",
    "\n",
    "\n",
    "\n",
    "data = read_data()"
   ]
  },
  {
   "cell_type": "code",
   "execution_count": 3,
   "id": "f467ac9a",
   "metadata": {},
   "outputs": [
    {
     "name": "stdout",
     "output_type": "stream",
     "text": [
      "Entity `ANN ♠` with performance \n",
      " TwoClassClassificationPerformance(name=Two class P, ptn=0.8390197560439461, pfp=0.03675330043250826, pfn=0.01777933853901557, ptp=0.1064476049845301)\n"
     ]
    }
   ],
   "source": [
    "print(data[0])"
   ]
  },
  {
   "cell_type": "code",
   "execution_count": null,
   "id": "bb1fad3b",
   "metadata": {},
   "outputs": [],
   "source": [
    "from sorbetto.ranking.ranking_score import RankingScore\n",
    "from sorbetto.parametrization.parametrization_default import ParameterizationDefault\n",
    "\n",
    "parameterization = ParameterizationDefault()\n",
    "score = RankingScore.getAccuracy()\n",
    "\n",
    "performance_set = FiniteSetOfTwoClassClassificationPerformances(\n",
    "    [entity.evaluate() for entity in data]\n",
    "    )\n",
    "\n",
    "resolution = 1001"
   ]
  },
  {
   "cell_type": "code",
   "execution_count": null,
   "id": "6d4c045b",
   "metadata": {},
   "outputs": [],
   "source": [
    "from sorbetto.analyses.analysis_theoretical_analyst import AnalysisForTheoreticalAnalyst\n",
    "\n",
    "theoretical_analyst = AnalysisForTheoreticalAnalyst(\n",
    "    performances=performance_set,\n",
    "    parameterization=parameterization,\n",
    "    score=score,\n",
    "    resolution=resolution\n",
    ")\n",
    "\n",
    "\n",
    "corr_tile = theoretical_analyst.getKendallCorrelationTile()"
   ]
  },
  {
   "cell_type": "code",
   "execution_count": null,
   "id": "5501cc56",
   "metadata": {},
   "outputs": [],
   "source": [
    "correlations = [\"getPearsonCorrelationTile\",\n",
    "               \"getKendallCorrelationTile\",\n",
    "               \"getSpearmanCorrelationTile\"]\n",
    "\n",
    "res = []\n",
    "\n",
    "for corr in correlations:\n",
    "    r = eval(f\"theoretical_analyst.{corr}()\")\n",
    "    res.append(r)"
   ]
  }
 ],
 "metadata": {
  "kernelspec": {
   "display_name": "tile-env",
   "language": "python",
   "name": "python3"
  },
  "language_info": {
   "codemirror_mode": {
    "name": "ipython",
    "version": 3
   },
   "file_extension": ".py",
   "mimetype": "text/x-python",
   "name": "python",
   "nbconvert_exporter": "python",
   "pygments_lexer": "ipython3",
   "version": "3.12.11"
  }
 },
 "nbformat": 4,
 "nbformat_minor": 5
}
