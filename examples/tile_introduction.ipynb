{
 "cells": [
  {
   "cell_type": "markdown",
   "id": "9e8add62",
   "metadata": {},
   "source": [
    "# Introducing the Tile"
   ]
  },
  {
   "cell_type": "markdown",
   "id": "eff9f597",
   "metadata": {},
   "source": [
    "Most projects evaluate their methods on an handful scores whose use is mainly motivated by comparison purposes. Cosnidering that scores have specific meaning, it is more interesting to consider many scores to better understand the behavior of models. That is why the Tile, a visualizaion tool for two-class problems, was introduced.\n",
    "\n",
    "The Tile considers an infinite familly of ranking scores that are conditionned on both importances (**a**, **b**) and performances (**TP**, **FP**, **FN**, **TN**) whose values can be obtained following:\n",
    "\n",
    "$$R_{I_{a,b}} = \\frac{(1-a)PTN + aPTP}{(1-a)PTN + (1-b)PFP + bPFN + aPTP}$$\n",
    "\n",
    "where:\n",
    "- $a$: Importance assigned to True Positives (TP).\n",
    "- $b$: Importance assigned to False Negatives (FN).\n",
    "- $PTN$: The probability of a True Negative (TN). \n",
    "- $PTP$: The probability of a True Positive (TP).\n",
    "- $PFP$: The probability of a False Positive (FP).\n",
    "- $PFN$: The probability of a False Negative (FN)."
   ]
  },
  {
   "cell_type": "markdown",
   "id": "b77c68d0",
   "metadata": {},
   "source": [
    "Many different well-known scores are in the Tile such as TPR, F1, Accuracy and so on. This notebook provides an example of a Tile with different scores in it."
   ]
  },
  {
   "cell_type": "code",
   "execution_count": 1,
   "id": "19bf4e04",
   "metadata": {},
   "outputs": [],
   "source": [
    "import matplotlib.pyplot as plt\n",
    "\n",
    "from sorbetto.tile.tile import Tile\n",
    "from sorbetto.parameterization.parameterization_default import ParameterizationDefault\n",
    "from sorbetto.annotation.annotation_text import AnnotationText\n",
    "from sorbetto.ranking.ranking_score import RankingScore\n"
   ]
  },
  {
   "cell_type": "code",
   "execution_count": 5,
   "id": "aace2d14",
   "metadata": {},
   "outputs": [],
   "source": [
    "Param_default = ParameterizationDefault()\n",
    "empty_tile = Tile(name = \"Canonical Ranking Score\",\n",
    "                       parameterization = Param_default)"
   ]
  },
  {
   "cell_type": "code",
   "execution_count": 6,
   "id": "e1a73913",
   "metadata": {},
   "outputs": [
    {
     "data": {
      "image/png": "[encoded data removed]",
      "text/plain": [
       "<Figure size 640x480 with 1 Axes>"
      ]
     },
     "metadata": {},
     "output_type": "display_data"
    }
   ],
   "source": [
    "scores_list = [RankingScore.getAccuracy(),\n",
    "               RankingScore.getTruePositiveRate(),\n",
    "               RankingScore.getTrueNegativeRate(),\n",
    "               RankingScore.getNegativePredictiveValue(),\n",
    "               RankingScore.getPositivePredictiveValue(),\n",
    "               RankingScore.getF(1.),\n",
    "               #RankingScore.getSpecificity()\n",
    "               ]\n",
    "\n",
    "annotations_data = [\n",
    "    (Param_default.locateRankingScore(score), score.abbreviation, {'markersize': 0}) for score in scores_list\n",
    "]\n",
    "\n",
    "annotations = [\n",
    "    AnnotationText(location=pt, label=lbl, **options)\n",
    "    for pt, lbl, options in annotations_data\n",
    "]\n",
    "\n",
    "\n",
    "fig, ax = empty_tile.draw()\n",
    "ax.set_xlim(-0.1, 1.1)\n",
    "ax.set_ylim(-0.1, 1.1)\n",
    "\n",
    "ax.fill_between([0, 1], 0, 1, color='lightgray', zorder=0)\n",
    "tile = Tile(name = \"Empty tile\", parameterization=Param_default)\n",
    "\n",
    "for i in range(len(annotations)):\n",
    "    ann = annotations[i]\n",
    "    data = annotations_data[i]\n",
    "    if ann.name in ['F1', 'A']:\n",
    "        ax.plot(data[0].x, data[0].y, 'o', color='lightcoral')\n",
    "        ann.draw(tile, fig, ax, )\n",
    "    else:\n",
    "        ax.plot(data[0].x, data[0].y, 'o', color='black')\n",
    "        ann.draw(tile, fig, ax)\n",
    "\n",
    "# Hide ticks & spines\n",
    "ax.set_xticks([])\n",
    "ax.set_yticks([])\n",
    "for spine in ['top', 'right', 'bottom', 'left']:\n",
    "    ax.spines[spine].set_visible(False)\n",
    "\n",
    "ax.set_title(\"Canonical Ranking Scores\", fontsize=14, pad=10)\n",
    "\n",
    "arrowprops = dict(arrowstyle=\"<->\", lw=1.5, color='black')\n",
    "ax.annotate('', xy=(1.0, -0.1), xytext=(0.0, -0.1), arrowprops=arrowprops)  # x-axis\n",
    "ax.annotate('', xy=(-0.1, 1.0), xytext=(-0.1, 0.0), arrowprops=arrowprops)  # y-axis\n",
    "ax.text(1.0, -0.1, \"$tp$\", ha='left', va='center', fontsize=12)\n",
    "ax.text(0.0, -0.1, \"tn\", ha='center', va='top', fontsize=12)\n",
    "ax.text(-0.1, 1.0, \"$fn$\", ha='center', va='bottom', fontsize=12)\n",
    "ax.text(-0.1, 0.0, \"fp\", ha='right', va='center', fontsize=12)\n",
    "\n",
    "ax.set_aspect('equal')\n",
    "plt.tight_layout()\n",
    "plt.show()"
   ]
  },
  {
   "cell_type": "code",
   "execution_count": null,
   "id": "2a3ec763",
   "metadata": {},
   "outputs": [],
   "source": []
  }
 ],
 "metadata": {
  "kernelspec": {
   "display_name": "tile-env",
   "language": "python",
   "name": "python3"
  },
  "language_info": {
   "codemirror_mode": {
    "name": "ipython",
    "version": 3
   },
   "file_extension": ".py",
   "mimetype": "text/x-python",
   "name": "python",
   "nbconvert_exporter": "python",
   "pygments_lexer": "ipython3",
   "version": "3.12.11"
  }
 },
 "nbformat": 4,
 "nbformat_minor": 5
}
