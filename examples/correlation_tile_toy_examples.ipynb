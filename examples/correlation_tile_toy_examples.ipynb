{
 "cells": [
  {
   "cell_type": "markdown",
   "id": "67ee8acf",
   "metadata": {},
   "source": [
    "# Toy examples for correlation tiles\n",
    "\n",
    "This jupyter notebook reproduces the nine tiles of Figure 4 in :cite:t:`Pierard2024TheTile'. \n",
    "\n",
    "It provides toy examples showing correlation tiles showing the rank correlations (Kendall τ ) between 9 probabilistic scores (those that belong to the ranking scores), and all ranking scores, for a uniform distribution of performances. \n",
    "The correlation values have been estimated based on 10,000 performances drawn at random."
   ]
  },
  {
   "cell_type": "code",
   "execution_count": null,
   "id": "3b7bf342",
   "metadata": {},
   "outputs": [
    {
     "ename": "ModuleNotFoundError",
     "evalue": "No module named 'sorbetto.performance.distribution.two_class_classification'",
     "output_type": "error",
     "traceback": [
      "\u001b[31m---------------------------------------------------------------------------\u001b[39m",
      "\u001b[31mModuleNotFoundError\u001b[39m                       Traceback (most recent call last)",
      "\u001b[36mCell\u001b[39m\u001b[36m \u001b[39m\u001b[32mIn[1]\u001b[39m\u001b[32m, line 2\u001b[39m\n\u001b[32m      1\u001b[39m \u001b[38;5;28;01mfrom\u001b[39;00m\u001b[38;5;250m \u001b[39m\u001b[34;01msorbetto\u001b[39;00m\u001b[34;01m.\u001b[39;00m\u001b[34;01mcore\u001b[39;00m\u001b[34;01m.\u001b[39;00m\u001b[34;01mentity\u001b[39;00m\u001b[38;5;250m \u001b[39m\u001b[38;5;28;01mimport\u001b[39;00m Entity\n\u001b[32m----> \u001b[39m\u001b[32m2\u001b[39m \u001b[38;5;28;01mfrom\u001b[39;00m\u001b[38;5;250m \u001b[39m\u001b[34;01msorbetto\u001b[39;00m\u001b[34;01m.\u001b[39;00m\u001b[34;01mperformance\u001b[39;00m\u001b[34;01m.\u001b[39;00m\u001b[34;01mdistribution\u001b[39;00m\u001b[34;01m.\u001b[39;00m\u001b[34;01mtwo_class_classification\u001b[39;00m\u001b[38;5;250m \u001b[39m\u001b[38;5;28;01mimport\u001b[39;00m TwoClassClassificationPerformance\n\u001b[32m      3\u001b[39m \u001b[38;5;28;01mfrom\u001b[39;00m\u001b[38;5;250m \u001b[39m\u001b[34;01msorbetto\u001b[39;00m\u001b[34;01m.\u001b[39;00m\u001b[34;01mparameterization\u001b[39;00m\u001b[34;01m.\u001b[39;00m\u001b[34;01mparameterization_default\u001b[39;00m\u001b[38;5;250m \u001b[39m\u001b[38;5;28;01mimport\u001b[39;00m ParameterizationDefault\n\u001b[32m      4\u001b[39m \u001b[38;5;28;01mfrom\u001b[39;00m\u001b[38;5;250m \u001b[39m\u001b[34;01msorbetto\u001b[39;00m\u001b[34;01m.\u001b[39;00m\u001b[34;01mtile\u001b[39;00m\u001b[34;01m.\u001b[39;00m\u001b[34;01mcorrelation_tile\u001b[39;00m\u001b[38;5;250m \u001b[39m\u001b[38;5;28;01mimport\u001b[39;00m CorrelationTile\n",
      "\u001b[31mModuleNotFoundError\u001b[39m: No module named 'sorbetto.performance.distribution.two_class_classification'"
     ]
    }
   ],
   "source": [
    "import scipy.stats\n",
    "\n",
    "from sorbetto.performance.distribution.uniform_distribution_of_two_class_classification_performances import UniformDistributionOfTwoClassClassificationPerformances\n",
    "from sorbetto.parameterization.parameterization_default import ParameterizationDefault\n",
    "from sorbetto.flavor.correlation_flavor import CorrelationFlavor\n",
    "from sorbetto.tile.correlation_tile import CorrelationTile\n",
    "from sorbetto.ranking.ranking_score import RankingScore\n",
    "from sorbetto.core.importance import Importance\n",
    "\n",
    "correlation_fct = scipy.stats.kendalltau\n",
    "\n",
    "# Draw 10,000 performances at random\n",
    "performances_drawn_at_random = UniformDistributionOfTwoClassClassificationPerformances()"
   ]
  },
  {
   "cell_type": "markdown",
   "id": "aad13f17",
   "metadata": {},
   "source": [
    "## Negative Predictive Value $NPV$"
   ]
  },
  {
   "cell_type": "code",
   "execution_count": null,
   "id": "2de4334c",
   "metadata": {},
   "outputs": [],
   "source": [
    "npv_score = RankingScore.getNegativePredictiveValueScore()\n",
    "npv_correlation_tile = CorrelationTile(name = \"NPV Correlation Tile\", \n",
    "                                       parameterization = ParameterizationDefault(), \n",
    "                                       symbolic_flavor = CorrelationFlavor(correlation_coefficient = correlation_fct, score = npv_score), \n",
    "                                       performances_list = performances_drawn_at_random, \n",
    "                                       resolution = 1001)\n",
    "npv_correlation_tile.draw()"
   ]
  },
  {
   "cell_type": "markdown",
   "id": "b08d2e94",
   "metadata": {},
   "source": [
    "## $X^{C}_{{tn,tp}|{tn,fn,tp}}$"
   ]
  },
  {
   "cell_type": "code",
   "execution_count": null,
   "id": "acd9c703",
   "metadata": {},
   "outputs": [],
   "source": [
    "importance = Importance(itn=1, ifp=0, ifn=1, itp=1)\n",
    "score2 = RankingScore(importance)\n",
    "score2_correlation_tile = CorrelationTile(name = \"$X^{C}_{{tn,tp}|{tn,fn,tp}}$ Correlation Tile\", \n",
    "                                       parameterization = ParameterizationDefault(), \n",
    "                                       symbolic_flavor = CorrelationFlavor(correlation_coefficient = correlation_fct, score = score2), \n",
    "                                       performances_list = performances_drawn_at_random, \n",
    "                                       resolution = 1001)\n",
    "score2_correlation_tile.draw()"
   ]
  },
  {
   "cell_type": "markdown",
   "id": "e94d7fc7",
   "metadata": {},
   "source": [
    "## True Positive Rate $TPR$"
   ]
  },
  {
   "cell_type": "code",
   "execution_count": null,
   "id": "df9f2331",
   "metadata": {},
   "outputs": [],
   "source": []
  },
  {
   "cell_type": "markdown",
   "id": "b0a89b6d",
   "metadata": {},
   "source": [
    "## Inverse Jaccard $J_{-}$"
   ]
  },
  {
   "cell_type": "code",
   "execution_count": null,
   "id": "9d35ff92",
   "metadata": {},
   "outputs": [],
   "source": []
  },
  {
   "cell_type": "markdown",
   "id": "3ff56722",
   "metadata": {},
   "source": [
    "## Accuracy $A$"
   ]
  },
  {
   "cell_type": "code",
   "execution_count": null,
   "id": "0b5c0ea2",
   "metadata": {},
   "outputs": [],
   "source": []
  },
  {
   "cell_type": "markdown",
   "id": "010e7170",
   "metadata": {},
   "source": [
    "## Jaccard $J_{+}$"
   ]
  },
  {
   "cell_type": "code",
   "execution_count": null,
   "id": "68a70066",
   "metadata": {},
   "outputs": [],
   "source": []
  },
  {
   "cell_type": "markdown",
   "id": "8f3761b2",
   "metadata": {},
   "source": [
    "## True Negative Rate $TNR$"
   ]
  },
  {
   "cell_type": "code",
   "execution_count": null,
   "id": "922aba2d",
   "metadata": {},
   "outputs": [],
   "source": []
  },
  {
   "cell_type": "markdown",
   "id": "29c8040e",
   "metadata": {},
   "source": [
    "## $X^{C}_{{tn,tp}|{tn,fp,tp}}$"
   ]
  },
  {
   "cell_type": "code",
   "execution_count": null,
   "id": "02539994",
   "metadata": {},
   "outputs": [],
   "source": []
  },
  {
   "cell_type": "markdown",
   "id": "1927a44d",
   "metadata": {},
   "source": [
    "## Positive Predictive Value $PPV$"
   ]
  },
  {
   "cell_type": "code",
   "execution_count": null,
   "id": "c68711ad",
   "metadata": {},
   "outputs": [],
   "source": []
  }
 ],
 "metadata": {
  "kernelspec": {
   "display_name": "sorbetto",
   "language": "python",
   "name": "python3"
  },
  "language_info": {
   "codemirror_mode": {
    "name": "ipython",
    "version": 3
   },
   "file_extension": ".py",
   "mimetype": "text/x-python",
   "name": "python",
   "nbconvert_exporter": "python",
   "pygments_lexer": "ipython3",
   "version": "3.12.11"
  }
 },
 "nbformat": 4,
 "nbformat_minor": 5
}
