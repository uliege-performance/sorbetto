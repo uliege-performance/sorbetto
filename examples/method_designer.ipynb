{
 "cells": [
  {
   "cell_type": "code",
   "execution_count": 1,
   "id": "e8e72182",
   "metadata": {},
   "outputs": [],
   "source": [
    "import os\n",
    "import numpy as np\n",
    "import matplotlib.pyplot as plt\n",
    "from typing import Union, List, Callable, Optional, Dict, Any\n",
    "import json\n",
    "from utils import get_colors"
   ]
  },
  {
   "cell_type": "markdown",
   "id": "98a9ef39",
   "metadata": {},
   "source": [
    "# Sorbetto: a Python Library to Produce Classification Tiles With Different Flavors\n",
    "\n",
    "Code in [![GitHub stars](https://img.shields.io/github/stars/pierard/sorbetto?style=social)](https://github.com/pierard/sorbetto)"
   ]
  },
  {
   "cell_type": "markdown",
   "id": "173be772",
   "metadata": {},
   "source": [
    "## Method designer\n",
    "\n"
   ]
  },
  {
   "cell_type": "markdown",
   "id": "9b718400",
   "metadata": {},
   "source": [
    "The method designer wants to test and compare their newly developed method against existing ones. Their focus is on analyzing strengths and weaknesses across different evaluation perspectives, and possibly tuning hyperparameters to improve performance. They are less concerned with pure theory and more with how well their method performs compared to baselines and state-of-the-art. In short, they care about evaluating and improving their own models.\n",
    "\n",
    "In this notebook, we show how the tile can be used for such an objective.\n",
    "\n",
    "For more information, please refer to the  [*reference paper*](https://arxiv.org/abs/2412.04377)."
   ]
  },
  {
   "cell_type": "markdown",
   "id": "512c7fc9",
   "metadata": {},
   "source": [
    "### Installing the library\n",
    "\n",
    "If you are using google colab, it is possible to install the library by running the code below. If it is not the case, please refer to install.md to get a local installation. "
   ]
  },
  {
   "cell_type": "code",
   "execution_count": 2,
   "id": "2713e101",
   "metadata": {},
   "outputs": [
    {
     "name": "stdout",
     "output_type": "stream",
     "text": [
      "Clonage dans 'sorbetto'...\n",
      "bash: install.sh: Aucun fichier ou dossier de ce nom\n"
     ]
    }
   ],
   "source": [
    "# only for google colab\n",
    "\n",
    "CODE_DIR = 'sorbetto'\n",
    "os.makedirs(f'./{CODE_DIR}')\n",
    "!git clone git@github.com:pierard/sorbetto.git $CODE_DIR\n",
    "os.chdir(f'./{CODE_DIR}')\n",
    "\n",
    "!bash install.sh"
   ]
  },
  {
   "cell_type": "markdown",
   "id": "1f71258e",
   "metadata": {},
   "source": [
    "### Data\n",
    "\n",
    "In this example, the list of entities are the different deep learning models from mmsegmentation that are obtained on cityscape data."
   ]
  },
  {
   "cell_type": "code",
   "execution_count": null,
   "id": "b44b7d4e",
   "metadata": {},
   "outputs": [
    {
     "ename": "FileNotFoundError",
     "evalue": "[Errno 2] No such file or directory: '/home/jepi/snap/code/204/.local/share/Trash/files/sorbetto.2/data/semantic_segmentation_methods.json'",
     "output_type": "error",
     "traceback": [
      "\u001b[31m---------------------------------------------------------------------------\u001b[39m",
      "\u001b[31mFileNotFoundError\u001b[39m                         Traceback (most recent call last)",
      "\u001b[36mCell\u001b[39m\u001b[36m \u001b[39m\u001b[32mIn[4]\u001b[39m\u001b[32m, line 53\u001b[39m\n\u001b[32m     47\u001b[39m         processed_data.append(entity)\n\u001b[32m     49\u001b[39m     \u001b[38;5;28;01mreturn\u001b[39;00m processed_data\n\u001b[32m---> \u001b[39m\u001b[32m53\u001b[39m data = \u001b[43mread_data\u001b[49m\u001b[43m(\u001b[49m\u001b[43m)\u001b[49m\n",
      "\u001b[36mCell\u001b[39m\u001b[36m \u001b[39m\u001b[32mIn[4]\u001b[39m\u001b[32m, line 26\u001b[39m, in \u001b[36mread_data\u001b[39m\u001b[34m(filePath)\u001b[39m\n\u001b[32m     25\u001b[39m \u001b[38;5;28;01mdef\u001b[39;00m\u001b[38;5;250m \u001b[39m\u001b[34mread_data\u001b[39m(filePath:\u001b[38;5;28mstr\u001b[39m = PATH_DATA):\n\u001b[32m---> \u001b[39m\u001b[32m26\u001b[39m     data = \u001b[43mread_json\u001b[49m\u001b[43m(\u001b[49m\u001b[43mfilePath\u001b[49m\u001b[43m)\u001b[49m\n\u001b[32m     28\u001b[39m     processed_data = []\n\u001b[32m     30\u001b[39m     colors = get_colors(\u001b[38;5;28mlen\u001b[39m(data))\n",
      "\u001b[36mCell\u001b[39m\u001b[36m \u001b[39m\u001b[32mIn[4]\u001b[39m\u001b[32m, line 20\u001b[39m, in \u001b[36mread_json\u001b[39m\u001b[34m(filePath)\u001b[39m\n\u001b[32m     15\u001b[39m \u001b[38;5;28;01mdef\u001b[39;00m\u001b[38;5;250m \u001b[39m\u001b[34mread_json\u001b[39m(filePath:\u001b[38;5;28mstr\u001b[39m):\n\u001b[32m     16\u001b[39m \u001b[38;5;250m    \u001b[39m\u001b[33;03m\"\"\"\u001b[39;00m\n\u001b[32m     17\u001b[39m \u001b[33;03m    Function to read json \u001b[39;00m\n\u001b[32m     18\u001b[39m \u001b[33;03m    \"\"\"\u001b[39;00m\n\u001b[32m---> \u001b[39m\u001b[32m20\u001b[39m     \u001b[38;5;28;01mwith\u001b[39;00m \u001b[38;5;28;43mopen\u001b[39;49m\u001b[43m(\u001b[49m\u001b[43mfilePath\u001b[49m\u001b[43m,\u001b[49m\u001b[43m \u001b[49m\u001b[33;43m'\u001b[39;49m\u001b[33;43mr\u001b[39;49m\u001b[33;43m'\u001b[39;49m\u001b[43m)\u001b[49m \u001b[38;5;28;01mas\u001b[39;00m f:\n\u001b[32m     21\u001b[39m         data = json.load(f)\n\u001b[32m     22\u001b[39m     \u001b[38;5;28;01mreturn\u001b[39;00m data\n",
      "\u001b[36mFile \u001b[39m\u001b[32m~/miniconda3/envs/tile-env/lib/python3.12/site-packages/IPython/core/interactiveshell.py:343\u001b[39m, in \u001b[36m_modified_open\u001b[39m\u001b[34m(file, *args, **kwargs)\u001b[39m\n\u001b[32m    336\u001b[39m \u001b[38;5;28;01mif\u001b[39;00m file \u001b[38;5;129;01min\u001b[39;00m {\u001b[32m0\u001b[39m, \u001b[32m1\u001b[39m, \u001b[32m2\u001b[39m}:\n\u001b[32m    337\u001b[39m     \u001b[38;5;28;01mraise\u001b[39;00m \u001b[38;5;167;01mValueError\u001b[39;00m(\n\u001b[32m    338\u001b[39m         \u001b[33mf\u001b[39m\u001b[33m\"\u001b[39m\u001b[33mIPython won\u001b[39m\u001b[33m'\u001b[39m\u001b[33mt let you open fd=\u001b[39m\u001b[38;5;132;01m{\u001b[39;00mfile\u001b[38;5;132;01m}\u001b[39;00m\u001b[33m by default \u001b[39m\u001b[33m\"\u001b[39m\n\u001b[32m    339\u001b[39m         \u001b[33m\"\u001b[39m\u001b[33mas it is likely to crash IPython. If you know what you are doing, \u001b[39m\u001b[33m\"\u001b[39m\n\u001b[32m    340\u001b[39m         \u001b[33m\"\u001b[39m\u001b[33myou can use builtins\u001b[39m\u001b[33m'\u001b[39m\u001b[33m open.\u001b[39m\u001b[33m\"\u001b[39m\n\u001b[32m    341\u001b[39m     )\n\u001b[32m--> \u001b[39m\u001b[32m343\u001b[39m \u001b[38;5;28;01mreturn\u001b[39;00m \u001b[43mio_open\u001b[49m\u001b[43m(\u001b[49m\u001b[43mfile\u001b[49m\u001b[43m,\u001b[49m\u001b[43m \u001b[49m\u001b[43m*\u001b[49m\u001b[43margs\u001b[49m\u001b[43m,\u001b[49m\u001b[43m \u001b[49m\u001b[43m*\u001b[49m\u001b[43m*\u001b[49m\u001b[43mkwargs\u001b[49m\u001b[43m)\u001b[49m\n",
      "\u001b[31mFileNotFoundError\u001b[39m: [Errno 2] No such file or directory: '/home/jepi/snap/code/204/.local/share/Trash/files/sorbetto.2/data/semantic_segmentation_methods.json'"
     ]
    }
   ],
   "source": [
    "# loading data\n",
    "\n",
    "from sorbetto.core.entity import Entity\n",
    "from sorbetto.performance.two_class_classification import TwoClassClassificationPerformance\n",
    "\n",
    "PATH_DATA = os.path.join(os.getcwd(), 'data', 'semantic_segmentation_methods.json')\n",
    "\n",
    "MAP_DATASETS = {\n",
    "    'Cityscapes': '♠',\n",
    "    'ADE20K': '♥',\n",
    "    'Pascal VOC 2012': '♦',\n",
    "    'COCO-Stuff 164k': '♣'\n",
    "}\n",
    "\n",
    "def read_json(filePath:str):\n",
    "    \"\"\"\n",
    "    Function to read json \n",
    "    \"\"\"\n",
    "    \n",
    "    with open(filePath, 'r') as f:\n",
    "        data = json.load(f)\n",
    "    return data\n",
    "\n",
    "\n",
    "def read_data(filePath:str = PATH_DATA):\n",
    "    data = read_json(filePath)\n",
    "\n",
    "    processed_data = []\n",
    "\n",
    "    colors = get_colors(len(data))\n",
    "\n",
    "    # convert each instance into an Entity\n",
    "    for i, elem in enumerate(data):\n",
    "        performance = TwoClassClassificationPerformance(\n",
    "            ptp=elem['proba_tp'],\n",
    "            ptn=elem['proba_tn'],\n",
    "            pfp=elem['proba_fp'],\n",
    "            pfn=elem['proba_fn']\n",
    "        )\n",
    "\n",
    "        entity = Entity(\n",
    "            performance= performance,\n",
    "            name = f\"{elem['model']} {MAP_DATASETS[elem['learning_set']]}\",\n",
    "            color= colors[i]\n",
    "        )\n",
    "\n",
    "        processed_data.append(entity)\n",
    "\n",
    "    return processed_data\n",
    "\n",
    "\n",
    "\n",
    "data = read_data()"
   ]
  },
  {
   "cell_type": "code",
   "execution_count": null,
   "id": "fdc51f14",
   "metadata": {},
   "outputs": [],
   "source": [
    "from sorbetto.analyses.analysis_method_designer import AnalysisForMethodDesigner\n",
    "\n",
    "method_analysis = AnalysisForMethodDesigner(\n",
    "    performance = performance,\n",
    "    competitors = competitors,\n",
    "    parameterization=parameterization,\n",
    "    resolution=resolution\n",
    ")"
   ]
  },
  {
   "cell_type": "markdown",
   "id": "9a62518f",
   "metadata": {},
   "source": [
    "### Baseline Value tile\n",
    "\n"
   ]
  },
  {
   "cell_type": "code",
   "execution_count": null,
   "id": "7dfaca8d",
   "metadata": {},
   "outputs": [],
   "source": [
    "baseline_val_tile = method_analysis.get_baseline_value_tile()"
   ]
  },
  {
   "cell_type": "markdown",
   "id": "928428ef",
   "metadata": {},
   "source": [
    "### SOTA Value tile\n",
    "\n"
   ]
  },
  {
   "cell_type": "code",
   "execution_count": null,
   "id": "badfdc2a",
   "metadata": {},
   "outputs": [],
   "source": [
    "sota_val_tile = method_analysis.getStateOfTheArtValueTile()"
   ]
  },
  {
   "cell_type": "markdown",
   "id": "7bb548e1",
   "metadata": {},
   "source": [
    "### Value tile\n",
    "\n"
   ]
  },
  {
   "cell_type": "code",
   "execution_count": null,
   "id": "6c0f7ef5",
   "metadata": {},
   "outputs": [],
   "source": [
    "val_tile = method_analysis.getValueTile()"
   ]
  },
  {
   "cell_type": "markdown",
   "id": "c35ccd34",
   "metadata": {},
   "source": [
    "### Ranking tile\n",
    "\n"
   ]
  },
  {
   "cell_type": "code",
   "execution_count": null,
   "id": "650cad67",
   "metadata": {},
   "outputs": [],
   "source": [
    "ranking_tile = method_analysis.getRankingTile()"
   ]
  }
 ],
 "metadata": {
  "kernelspec": {
   "display_name": "tile-env",
   "language": "python",
   "name": "python3"
  },
  "language_info": {
   "codemirror_mode": {
    "name": "ipython",
    "version": 3
   },
   "file_extension": ".py",
   "mimetype": "text/x-python",
   "name": "python",
   "nbconvert_exporter": "python",
   "pygments_lexer": "ipython3",
   "version": "3.12.11"
  }
 },
 "nbformat": 4,
 "nbformat_minor": 5
}
